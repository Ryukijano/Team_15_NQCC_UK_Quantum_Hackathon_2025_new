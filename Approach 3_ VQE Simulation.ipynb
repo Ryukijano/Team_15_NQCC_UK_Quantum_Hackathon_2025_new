{
 "cells": [
  {
   "cell_type": "markdown",
   "id": "e1eaa38d",
   "metadata": {},
   "source": [
    "# Approach 3: VQE Simulation"
   ]
  },
  {
   "cell_type": "markdown",
   "id": "9c7947c4",
   "metadata": {},
   "source": [
    "## 0 | Setup"
   ]
  },
  {
   "cell_type": "code",
   "execution_count": 3,
   "id": "218930a9",
   "metadata": {},
   "outputs": [],
   "source": [
    "# import libraries\n",
    "import numpy as np\n",
    "import matplotlib.pyplot as plt\n",
    "import pandas as pd\n",
    "import qiskit\n",
    "\n",
    "# import Qiskit libraries\n",
    "from qiskit import QuantumCircuit\n",
    "from qiskit.quantum_info import SparsePauliOp\n",
    "from qiskit.transpiler import generate_preset_pass_manager\n",
    "from qiskit_ibm_runtime import EstimatorV2 as Estimators\n",
    "import qiskit_ibm_runtime"
   ]
  },
  {
   "cell_type": "code",
   "execution_count": 4,
   "id": "d3e5d97a",
   "metadata": {},
   "outputs": [
    {
     "name": "stdout",
     "output_type": "stream",
     "text": [
      "2.1.1\n"
     ]
    }
   ],
   "source": [
    "print(qiskit.__version__)"
   ]
  },
  {
   "cell_type": "code",
   "execution_count": 16,
   "id": "631bcc81",
   "metadata": {},
   "outputs": [
    {
     "name": "stdout",
     "output_type": "stream",
     "text": [
      "/bin/bash: /home/ryukijano/miniconda3/lib/libtinfo.so.6: no version information available (required by /bin/bash)\n"
     ]
    },
    {
     "name": "stdout",
     "output_type": "stream",
     "text": [
      "Looking in indexes: https://pypi.org/simple, https://pypi.ngc.nvidia.com\n",
      "Requirement already satisfied: qiskit-serverless in /home/ryukijano/miniconda3/envs/quantum_qiskit/lib/python3.11/site-packages (0.25.1)\n",
      "Requirement already satisfied: ray<3,>=2.30 in /home/ryukijano/miniconda3/envs/quantum_qiskit/lib/python3.11/site-packages (from ray[default]<3,>=2.30->qiskit-serverless) (2.47.1)\n",
      "Requirement already satisfied: requests<3,>=2.32.2 in /home/ryukijano/miniconda3/envs/quantum_qiskit/lib/python3.11/site-packages (from qiskit-serverless) (2.32.2)\n",
      "Requirement already satisfied: importlib-metadata<9,>=5.2.0 in /home/ryukijano/miniconda3/envs/quantum_qiskit/lib/python3.11/site-packages (from qiskit-serverless) (6.11.0)\n",
      "Requirement already satisfied: qiskit<3,>=1.4 in /home/ryukijano/miniconda3/envs/quantum_qiskit/lib/python3.11/site-packages (from qiskit[qpy-compat]<3,>=1.4->qiskit-serverless) (2.1.1)\n",
      "Requirement already satisfied: qiskit-ibm-runtime<1,>=0.29.0 in /home/ryukijano/miniconda3/envs/quantum_qiskit/lib/python3.11/site-packages (from qiskit-serverless) (0.40.1)\n",
      "Requirement already satisfied: cloudpickle==2.2.1 in /home/ryukijano/miniconda3/envs/quantum_qiskit/lib/python3.11/site-packages (from qiskit-serverless) (2.2.1)\n",
      "Requirement already satisfied: tqdm<5,>=4.66.3 in /home/ryukijano/miniconda3/envs/quantum_qiskit/lib/python3.11/site-packages (from qiskit-serverless) (4.66.4)\n",
      "Requirement already satisfied: opentelemetry-api<1.33.1,>=1.18.0 in /home/ryukijano/miniconda3/envs/quantum_qiskit/lib/python3.11/site-packages (from qiskit-serverless) (1.25.0)\n",
      "Requirement already satisfied: opentelemetry-sdk<1.33.1,>=1.18.0 in /home/ryukijano/miniconda3/envs/quantum_qiskit/lib/python3.11/site-packages (from qiskit-serverless) (1.25.0)\n",
      "Requirement already satisfied: opentelemetry-exporter-otlp-proto-grpc<1.33.1,>=1.18.0 in /home/ryukijano/miniconda3/envs/quantum_qiskit/lib/python3.11/site-packages (from qiskit-serverless) (1.25.0)\n",
      "Requirement already satisfied: s3fs>=2023.6.0 in /home/ryukijano/miniconda3/envs/quantum_qiskit/lib/python3.11/site-packages (from qiskit-serverless) (2024.6.0)\n",
      "Requirement already satisfied: opentelemetry-instrumentation-requests>=0.40b0 in /home/ryukijano/miniconda3/envs/quantum_qiskit/lib/python3.11/site-packages (from qiskit-serverless) (0.46b0)\n",
      "Requirement already satisfied: ipywidgets<9,>=8.1.6 in /home/ryukijano/miniconda3/envs/quantum_qiskit/lib/python3.11/site-packages (from qiskit-serverless) (8.1.7)\n",
      "Requirement already satisfied: ipython<9,>=8.10.0 in /home/ryukijano/miniconda3/envs/quantum_qiskit/lib/python3.11/site-packages (from qiskit-serverless) (8.25.0)\n",
      "Requirement already satisfied: numpy<3,>=1.17 in /home/ryukijano/miniconda3/envs/quantum_qiskit/lib/python3.11/site-packages (from qiskit-serverless) (2.2.6)\n",
      "Requirement already satisfied: pyarrow<19,>=16.0.0 in /home/ryukijano/miniconda3/envs/quantum_qiskit/lib/python3.11/site-packages (from qiskit-serverless) (16.1.0)\n",
      "Requirement already satisfied: aiohttp<4,>=3.10.0 in /home/ryukijano/miniconda3/envs/quantum_qiskit/lib/python3.11/site-packages (from qiskit-serverless) (3.12.14)\n",
      "Requirement already satisfied: zipp==3.19.1 in /home/ryukijano/miniconda3/envs/quantum_qiskit/lib/python3.11/site-packages (from qiskit-serverless) (3.19.1)\n",
      "Requirement already satisfied: certifi==2024.7.4 in /home/ryukijano/miniconda3/envs/quantum_qiskit/lib/python3.11/site-packages (from qiskit-serverless) (2024.7.4)\n",
      "Requirement already satisfied: aiohappyeyeballs>=2.5.0 in /home/ryukijano/miniconda3/envs/quantum_qiskit/lib/python3.11/site-packages (from aiohttp<4,>=3.10.0->qiskit-serverless) (2.6.1)\n",
      "Requirement already satisfied: aiosignal>=1.4.0 in /home/ryukijano/miniconda3/envs/quantum_qiskit/lib/python3.11/site-packages (from aiohttp<4,>=3.10.0->qiskit-serverless) (1.4.0)\n",
      "Requirement already satisfied: attrs>=17.3.0 in /home/ryukijano/miniconda3/envs/quantum_qiskit/lib/python3.11/site-packages (from aiohttp<4,>=3.10.0->qiskit-serverless) (23.2.0)\n",
      "Requirement already satisfied: frozenlist>=1.1.1 in /home/ryukijano/miniconda3/envs/quantum_qiskit/lib/python3.11/site-packages (from aiohttp<4,>=3.10.0->qiskit-serverless) (1.4.1)\n",
      "Requirement already satisfied: multidict<7.0,>=4.5 in /home/ryukijano/miniconda3/envs/quantum_qiskit/lib/python3.11/site-packages (from aiohttp<4,>=3.10.0->qiskit-serverless) (6.0.5)\n",
      "Requirement already satisfied: propcache>=0.2.0 in /home/ryukijano/miniconda3/envs/quantum_qiskit/lib/python3.11/site-packages (from aiohttp<4,>=3.10.0->qiskit-serverless) (0.3.2)\n",
      "Requirement already satisfied: yarl<2.0,>=1.17.0 in /home/ryukijano/miniconda3/envs/quantum_qiskit/lib/python3.11/site-packages (from aiohttp<4,>=3.10.0->qiskit-serverless) (1.20.1)\n",
      "Requirement already satisfied: decorator in /home/ryukijano/miniconda3/envs/quantum_qiskit/lib/python3.11/site-packages (from ipython<9,>=8.10.0->qiskit-serverless) (5.1.1)\n",
      "Requirement already satisfied: jedi>=0.16 in /home/ryukijano/miniconda3/envs/quantum_qiskit/lib/python3.11/site-packages (from ipython<9,>=8.10.0->qiskit-serverless) (0.19.1)\n",
      "Requirement already satisfied: matplotlib-inline in /home/ryukijano/miniconda3/envs/quantum_qiskit/lib/python3.11/site-packages (from ipython<9,>=8.10.0->qiskit-serverless) (0.1.7)\n",
      "Requirement already satisfied: prompt-toolkit<3.1.0,>=3.0.41 in /home/ryukijano/miniconda3/envs/quantum_qiskit/lib/python3.11/site-packages (from ipython<9,>=8.10.0->qiskit-serverless) (3.0.46)\n",
      "Requirement already satisfied: pygments>=2.4.0 in /home/ryukijano/miniconda3/envs/quantum_qiskit/lib/python3.11/site-packages (from ipython<9,>=8.10.0->qiskit-serverless) (2.18.0)\n",
      "Requirement already satisfied: stack-data in /home/ryukijano/miniconda3/envs/quantum_qiskit/lib/python3.11/site-packages (from ipython<9,>=8.10.0->qiskit-serverless) (0.6.2)\n",
      "Requirement already satisfied: traitlets>=5.13.0 in /home/ryukijano/miniconda3/envs/quantum_qiskit/lib/python3.11/site-packages (from ipython<9,>=8.10.0->qiskit-serverless) (5.14.3)\n",
      "Requirement already satisfied: typing-extensions>=4.6 in /home/ryukijano/miniconda3/envs/quantum_qiskit/lib/python3.11/site-packages (from ipython<9,>=8.10.0->qiskit-serverless) (4.12.2)\n",
      "Requirement already satisfied: pexpect>4.3 in /home/ryukijano/miniconda3/envs/quantum_qiskit/lib/python3.11/site-packages (from ipython<9,>=8.10.0->qiskit-serverless) (4.9.0)\n",
      "Requirement already satisfied: comm>=0.1.3 in /home/ryukijano/miniconda3/envs/quantum_qiskit/lib/python3.11/site-packages (from ipywidgets<9,>=8.1.6->qiskit-serverless) (0.2.2)\n",
      "Requirement already satisfied: widgetsnbextension~=4.0.14 in /home/ryukijano/miniconda3/envs/quantum_qiskit/lib/python3.11/site-packages (from ipywidgets<9,>=8.1.6->qiskit-serverless) (4.0.14)\n",
      "Requirement already satisfied: jupyterlab_widgets~=3.0.15 in /home/ryukijano/miniconda3/envs/quantum_qiskit/lib/python3.11/site-packages (from ipywidgets<9,>=8.1.6->qiskit-serverless) (3.0.15)\n",
      "Requirement already satisfied: deprecated>=1.2.6 in /home/ryukijano/miniconda3/envs/quantum_qiskit/lib/python3.11/site-packages (from opentelemetry-api<1.33.1,>=1.18.0->qiskit-serverless) (1.2.14)\n",
      "Requirement already satisfied: googleapis-common-protos~=1.52 in /home/ryukijano/miniconda3/envs/quantum_qiskit/lib/python3.11/site-packages (from opentelemetry-exporter-otlp-proto-grpc<1.33.1,>=1.18.0->qiskit-serverless) (1.63.1)\n",
      "Requirement already satisfied: grpcio<2.0.0,>=1.0.0 in /home/ryukijano/miniconda3/envs/quantum_qiskit/lib/python3.11/site-packages (from opentelemetry-exporter-otlp-proto-grpc<1.33.1,>=1.18.0->qiskit-serverless) (1.64.1)\n",
      "Requirement already satisfied: opentelemetry-exporter-otlp-proto-common==1.25.0 in /home/ryukijano/miniconda3/envs/quantum_qiskit/lib/python3.11/site-packages (from opentelemetry-exporter-otlp-proto-grpc<1.33.1,>=1.18.0->qiskit-serverless) (1.25.0)\n",
      "Requirement already satisfied: opentelemetry-proto==1.25.0 in /home/ryukijano/miniconda3/envs/quantum_qiskit/lib/python3.11/site-packages (from opentelemetry-exporter-otlp-proto-grpc<1.33.1,>=1.18.0->qiskit-serverless) (1.25.0)\n",
      "Requirement already satisfied: protobuf<5.0,>=3.19 in /home/ryukijano/miniconda3/envs/quantum_qiskit/lib/python3.11/site-packages (from opentelemetry-proto==1.25.0->opentelemetry-exporter-otlp-proto-grpc<1.33.1,>=1.18.0->qiskit-serverless) (4.25.3)\n",
      "Requirement already satisfied: opentelemetry-instrumentation==0.46b0 in /home/ryukijano/miniconda3/envs/quantum_qiskit/lib/python3.11/site-packages (from opentelemetry-instrumentation-requests>=0.40b0->qiskit-serverless) (0.46b0)\n",
      "Requirement already satisfied: opentelemetry-semantic-conventions==0.46b0 in /home/ryukijano/miniconda3/envs/quantum_qiskit/lib/python3.11/site-packages (from opentelemetry-instrumentation-requests>=0.40b0->qiskit-serverless) (0.46b0)\n",
      "Requirement already satisfied: opentelemetry-util-http==0.46b0 in /home/ryukijano/miniconda3/envs/quantum_qiskit/lib/python3.11/site-packages (from opentelemetry-instrumentation-requests>=0.40b0->qiskit-serverless) (0.46b0)\n",
      "Requirement already satisfied: setuptools>=16.0 in /home/ryukijano/miniconda3/envs/quantum_qiskit/lib/python3.11/site-packages (from opentelemetry-instrumentation==0.46b0->opentelemetry-instrumentation-requests>=0.40b0->qiskit-serverless) (69.5.1)\n",
      "Requirement already satisfied: wrapt<2.0.0,>=1.0.0 in /home/ryukijano/miniconda3/envs/quantum_qiskit/lib/python3.11/site-packages (from opentelemetry-instrumentation==0.46b0->opentelemetry-instrumentation-requests>=0.40b0->qiskit-serverless) (1.16.0)\n",
      "Requirement already satisfied: rustworkx>=0.15.0 in /home/ryukijano/miniconda3/envs/quantum_qiskit/lib/python3.11/site-packages (from qiskit<3,>=1.4->qiskit[qpy-compat]<3,>=1.4->qiskit-serverless) (0.16.0)\n",
      "Requirement already satisfied: scipy>=1.5 in /home/ryukijano/miniconda3/envs/quantum_qiskit/lib/python3.11/site-packages (from qiskit<3,>=1.4->qiskit[qpy-compat]<3,>=1.4->qiskit-serverless) (1.13.1)\n",
      "Requirement already satisfied: dill>=0.3 in /home/ryukijano/miniconda3/envs/quantum_qiskit/lib/python3.11/site-packages (from qiskit<3,>=1.4->qiskit[qpy-compat]<3,>=1.4->qiskit-serverless) (0.3.8)\n",
      "Requirement already satisfied: stevedore>=3.0.0 in /home/ryukijano/miniconda3/envs/quantum_qiskit/lib/python3.11/site-packages (from qiskit<3,>=1.4->qiskit[qpy-compat]<3,>=1.4->qiskit-serverless) (5.2.0)\n",
      "Requirement already satisfied: requests-ntlm>=1.1.0 in /home/ryukijano/miniconda3/envs/quantum_qiskit/lib/python3.11/site-packages (from qiskit-ibm-runtime<1,>=0.29.0->qiskit-serverless) (1.2.0)\n",
      "Requirement already satisfied: urllib3>=1.21.1 in /home/ryukijano/miniconda3/envs/quantum_qiskit/lib/python3.11/site-packages (from qiskit-ibm-runtime<1,>=0.29.0->qiskit-serverless) (2.2.1)\n",
      "Requirement already satisfied: python-dateutil>=2.8.0 in /home/ryukijano/miniconda3/envs/quantum_qiskit/lib/python3.11/site-packages (from qiskit-ibm-runtime<1,>=0.29.0->qiskit-serverless) (2.9.0)\n",
      "Requirement already satisfied: ibm-platform-services>=0.22.6 in /home/ryukijano/miniconda3/envs/quantum_qiskit/lib/python3.11/site-packages (from qiskit-ibm-runtime<1,>=0.29.0->qiskit-serverless) (0.53.7)\n",
      "Requirement already satisfied: pydantic>=2.5.0 in /home/ryukijano/miniconda3/envs/quantum_qiskit/lib/python3.11/site-packages (from qiskit-ibm-runtime<1,>=0.29.0->qiskit-serverless) (2.7.3)\n",
      "Requirement already satisfied: packaging in /home/ryukijano/miniconda3/envs/quantum_qiskit/lib/python3.11/site-packages (from qiskit-ibm-runtime<1,>=0.29.0->qiskit-serverless) (23.2)\n",
      "Requirement already satisfied: symengine<0.14,>=0.11 in /home/ryukijano/miniconda3/envs/quantum_qiskit/lib/python3.11/site-packages (from qiskit[qpy-compat]<3,>=1.4->qiskit-serverless) (0.11.0)\n",
      "Requirement already satisfied: sympy>1.3 in /home/ryukijano/miniconda3/envs/quantum_qiskit/lib/python3.11/site-packages (from qiskit[qpy-compat]<3,>=1.4->qiskit-serverless) (1.12.1)\n",
      "Requirement already satisfied: click>=7.0 in /home/ryukijano/miniconda3/envs/quantum_qiskit/lib/python3.11/site-packages (from ray<3,>=2.30->ray[default]<3,>=2.30->qiskit-serverless) (8.1.7)\n",
      "Requirement already satisfied: filelock in /home/ryukijano/miniconda3/envs/quantum_qiskit/lib/python3.11/site-packages (from ray<3,>=2.30->ray[default]<3,>=2.30->qiskit-serverless) (3.14.0)\n",
      "Requirement already satisfied: jsonschema in /home/ryukijano/miniconda3/envs/quantum_qiskit/lib/python3.11/site-packages (from ray<3,>=2.30->ray[default]<3,>=2.30->qiskit-serverless) (4.22.0)\n",
      "Requirement already satisfied: msgpack<2.0.0,>=1.0.0 in /home/ryukijano/miniconda3/envs/quantum_qiskit/lib/python3.11/site-packages (from ray<3,>=2.30->ray[default]<3,>=2.30->qiskit-serverless) (1.0.8)\n",
      "Requirement already satisfied: pyyaml in /home/ryukijano/miniconda3/envs/quantum_qiskit/lib/python3.11/site-packages (from ray<3,>=2.30->ray[default]<3,>=2.30->qiskit-serverless) (6.0.1)\n",
      "Requirement already satisfied: aiohttp_cors in /home/ryukijano/miniconda3/envs/quantum_qiskit/lib/python3.11/site-packages (from ray[default]<3,>=2.30->qiskit-serverless) (0.7.0)\n",
      "Requirement already satisfied: colorful in /home/ryukijano/miniconda3/envs/quantum_qiskit/lib/python3.11/site-packages (from ray[default]<3,>=2.30->qiskit-serverless) (0.5.6)\n",
      "Requirement already satisfied: py-spy>=0.2.0 in /home/ryukijano/miniconda3/envs/quantum_qiskit/lib/python3.11/site-packages (from ray[default]<3,>=2.30->qiskit-serverless) (0.3.14)\n",
      "Requirement already satisfied: opencensus in /home/ryukijano/miniconda3/envs/quantum_qiskit/lib/python3.11/site-packages (from ray[default]<3,>=2.30->qiskit-serverless) (0.11.4)\n",
      "Requirement already satisfied: opentelemetry-exporter-prometheus in /home/ryukijano/miniconda3/envs/quantum_qiskit/lib/python3.11/site-packages (from ray[default]<3,>=2.30->qiskit-serverless) (0.46b0)\n",
      "Requirement already satisfied: prometheus_client>=0.7.1 in /home/ryukijano/miniconda3/envs/quantum_qiskit/lib/python3.11/site-packages (from ray[default]<3,>=2.30->qiskit-serverless) (0.20.0)\n",
      "Requirement already satisfied: smart_open in /home/ryukijano/miniconda3/envs/quantum_qiskit/lib/python3.11/site-packages (from ray[default]<3,>=2.30->qiskit-serverless) (7.0.4)\n",
      "Requirement already satisfied: virtualenv!=20.21.1,>=20.0.24 in /home/ryukijano/miniconda3/envs/quantum_qiskit/lib/python3.11/site-packages (from ray[default]<3,>=2.30->qiskit-serverless) (20.26.2)\n",
      "Requirement already satisfied: charset-normalizer<4,>=2 in /home/ryukijano/miniconda3/envs/quantum_qiskit/lib/python3.11/site-packages (from requests<3,>=2.32.2->qiskit-serverless) (3.3.2)\n",
      "Requirement already satisfied: idna<4,>=2.5 in /home/ryukijano/miniconda3/envs/quantum_qiskit/lib/python3.11/site-packages (from requests<3,>=2.32.2->qiskit-serverless) (3.7)\n",
      "Requirement already satisfied: aiobotocore<3.0.0,>=2.5.4 in /home/ryukijano/miniconda3/envs/quantum_qiskit/lib/python3.11/site-packages (from s3fs>=2023.6.0->qiskit-serverless) (2.13.0)\n",
      "Requirement already satisfied: fsspec==2024.6.0.* in /home/ryukijano/miniconda3/envs/quantum_qiskit/lib/python3.11/site-packages (from s3fs>=2023.6.0->qiskit-serverless) (2024.6.0)\n",
      "Requirement already satisfied: botocore<1.34.107,>=1.34.70 in /home/ryukijano/miniconda3/envs/quantum_qiskit/lib/python3.11/site-packages (from aiobotocore<3.0.0,>=2.5.4->s3fs>=2023.6.0->qiskit-serverless) (1.34.106)\n",
      "Requirement already satisfied: aioitertools<1.0.0,>=0.5.1 in /home/ryukijano/miniconda3/envs/quantum_qiskit/lib/python3.11/site-packages (from aiobotocore<3.0.0,>=2.5.4->s3fs>=2023.6.0->qiskit-serverless) (0.11.0)\n",
      "Requirement already satisfied: ibm-cloud-sdk-core<4.0.0,>=3.19.2 in /home/ryukijano/miniconda3/envs/quantum_qiskit/lib/python3.11/site-packages (from ibm-platform-services>=0.22.6->qiskit-ibm-runtime<1,>=0.29.0->qiskit-serverless) (3.20.1)\n",
      "Requirement already satisfied: parso<0.9.0,>=0.8.3 in /home/ryukijano/miniconda3/envs/quantum_qiskit/lib/python3.11/site-packages (from jedi>=0.16->ipython<9,>=8.10.0->qiskit-serverless) (0.8.4)\n",
      "Requirement already satisfied: ptyprocess>=0.5 in /home/ryukijano/miniconda3/envs/quantum_qiskit/lib/python3.11/site-packages (from pexpect>4.3->ipython<9,>=8.10.0->qiskit-serverless) (0.7.0)\n",
      "Requirement already satisfied: wcwidth in /home/ryukijano/miniconda3/envs/quantum_qiskit/lib/python3.11/site-packages (from prompt-toolkit<3.1.0,>=3.0.41->ipython<9,>=8.10.0->qiskit-serverless) (0.2.13)\n",
      "Requirement already satisfied: annotated-types>=0.4.0 in /home/ryukijano/miniconda3/envs/quantum_qiskit/lib/python3.11/site-packages (from pydantic>=2.5.0->qiskit-ibm-runtime<1,>=0.29.0->qiskit-serverless) (0.7.0)\n",
      "Requirement already satisfied: pydantic-core==2.18.4 in /home/ryukijano/miniconda3/envs/quantum_qiskit/lib/python3.11/site-packages (from pydantic>=2.5.0->qiskit-ibm-runtime<1,>=0.29.0->qiskit-serverless) (2.18.4)\n",
      "Requirement already satisfied: six>=1.5 in /home/ryukijano/miniconda3/envs/quantum_qiskit/lib/python3.11/site-packages (from python-dateutil>=2.8.0->qiskit-ibm-runtime<1,>=0.29.0->qiskit-serverless) (1.16.0)\n",
      "Requirement already satisfied: cryptography>=1.3 in /home/ryukijano/miniconda3/envs/quantum_qiskit/lib/python3.11/site-packages (from requests-ntlm>=1.1.0->qiskit-ibm-runtime<1,>=0.29.0->qiskit-serverless) (42.0.8)\n",
      "Requirement already satisfied: pyspnego>=0.1.6 in /home/ryukijano/miniconda3/envs/quantum_qiskit/lib/python3.11/site-packages (from requests-ntlm>=1.1.0->qiskit-ibm-runtime<1,>=0.29.0->qiskit-serverless) (0.10.2)\n",
      "Requirement already satisfied: pbr!=2.1.0,>=2.0.0 in /home/ryukijano/miniconda3/envs/quantum_qiskit/lib/python3.11/site-packages (from stevedore>=3.0.0->qiskit<3,>=1.4->qiskit[qpy-compat]<3,>=1.4->qiskit-serverless) (6.0.0)\n",
      "Requirement already satisfied: mpmath<1.4.0,>=1.1.0 in /home/ryukijano/miniconda3/envs/quantum_qiskit/lib/python3.11/site-packages (from sympy>1.3->qiskit[qpy-compat]<3,>=1.4->qiskit-serverless) (1.3.0)\n",
      "Requirement already satisfied: distlib<1,>=0.3.7 in /home/ryukijano/miniconda3/envs/quantum_qiskit/lib/python3.11/site-packages (from virtualenv!=20.21.1,>=20.0.24->ray[default]<3,>=2.30->qiskit-serverless) (0.3.8)\n",
      "Requirement already satisfied: platformdirs<5,>=3.9.1 in /home/ryukijano/miniconda3/envs/quantum_qiskit/lib/python3.11/site-packages (from virtualenv!=20.21.1,>=20.0.24->ray[default]<3,>=2.30->qiskit-serverless) (4.2.2)\n",
      "Requirement already satisfied: jsonschema-specifications>=2023.03.6 in /home/ryukijano/miniconda3/envs/quantum_qiskit/lib/python3.11/site-packages (from jsonschema->ray<3,>=2.30->ray[default]<3,>=2.30->qiskit-serverless) (2023.12.1)\n",
      "Requirement already satisfied: referencing>=0.28.4 in /home/ryukijano/miniconda3/envs/quantum_qiskit/lib/python3.11/site-packages (from jsonschema->ray<3,>=2.30->ray[default]<3,>=2.30->qiskit-serverless) (0.35.1)\n",
      "Requirement already satisfied: rpds-py>=0.7.1 in /home/ryukijano/miniconda3/envs/quantum_qiskit/lib/python3.11/site-packages (from jsonschema->ray<3,>=2.30->ray[default]<3,>=2.30->qiskit-serverless) (0.18.1)\n",
      "Requirement already satisfied: opencensus-context>=0.1.3 in /home/ryukijano/miniconda3/envs/quantum_qiskit/lib/python3.11/site-packages (from opencensus->ray[default]<3,>=2.30->qiskit-serverless) (0.1.3)\n",
      "Requirement already satisfied: google-api-core<3.0.0,>=1.0.0 in /home/ryukijano/miniconda3/envs/quantum_qiskit/lib/python3.11/site-packages (from opencensus->ray[default]<3,>=2.30->qiskit-serverless) (2.19.0)\n",
      "Requirement already satisfied: executing>=1.2.0 in /home/ryukijano/miniconda3/envs/quantum_qiskit/lib/python3.11/site-packages (from stack-data->ipython<9,>=8.10.0->qiskit-serverless) (2.0.1)\n",
      "Requirement already satisfied: asttokens>=2.1.0 in /home/ryukijano/miniconda3/envs/quantum_qiskit/lib/python3.11/site-packages (from stack-data->ipython<9,>=8.10.0->qiskit-serverless) (2.4.1)\n",
      "Requirement already satisfied: pure-eval in /home/ryukijano/miniconda3/envs/quantum_qiskit/lib/python3.11/site-packages (from stack-data->ipython<9,>=8.10.0->qiskit-serverless) (0.2.2)\n",
      "Requirement already satisfied: jmespath<2.0.0,>=0.7.1 in /home/ryukijano/miniconda3/envs/quantum_qiskit/lib/python3.11/site-packages (from botocore<1.34.107,>=1.34.70->aiobotocore<3.0.0,>=2.5.4->s3fs>=2023.6.0->qiskit-serverless) (1.0.1)\n",
      "Requirement already satisfied: cffi>=1.12 in /home/ryukijano/miniconda3/envs/quantum_qiskit/lib/python3.11/site-packages (from cryptography>=1.3->requests-ntlm>=1.1.0->qiskit-ibm-runtime<1,>=0.29.0->qiskit-serverless) (1.16.0)\n",
      "Requirement already satisfied: proto-plus<2.0.0dev,>=1.22.3 in /home/ryukijano/miniconda3/envs/quantum_qiskit/lib/python3.11/site-packages (from google-api-core<3.0.0,>=1.0.0->opencensus->ray[default]<3,>=2.30->qiskit-serverless) (1.23.0)\n",
      "Requirement already satisfied: google-auth<3.0.dev0,>=2.14.1 in /home/ryukijano/miniconda3/envs/quantum_qiskit/lib/python3.11/site-packages (from google-api-core<3.0.0,>=1.0.0->opencensus->ray[default]<3,>=2.30->qiskit-serverless) (2.30.0)\n",
      "Requirement already satisfied: PyJWT<3.0.0,>=2.8.0 in /home/ryukijano/miniconda3/envs/quantum_qiskit/lib/python3.11/site-packages (from ibm-cloud-sdk-core<4.0.0,>=3.19.2->ibm-platform-services>=0.22.6->qiskit-ibm-runtime<1,>=0.29.0->qiskit-serverless) (2.10.1)\n",
      "Requirement already satisfied: pycparser in /home/ryukijano/miniconda3/envs/quantum_qiskit/lib/python3.11/site-packages (from cffi>=1.12->cryptography>=1.3->requests-ntlm>=1.1.0->qiskit-ibm-runtime<1,>=0.29.0->qiskit-serverless) (2.22)\n",
      "Requirement already satisfied: cachetools<6.0,>=2.0.0 in /home/ryukijano/miniconda3/envs/quantum_qiskit/lib/python3.11/site-packages (from google-auth<3.0.dev0,>=2.14.1->google-api-core<3.0.0,>=1.0.0->opencensus->ray[default]<3,>=2.30->qiskit-serverless) (5.3.3)\n",
      "Requirement already satisfied: pyasn1-modules>=0.2.1 in /home/ryukijano/miniconda3/envs/quantum_qiskit/lib/python3.11/site-packages (from google-auth<3.0.dev0,>=2.14.1->google-api-core<3.0.0,>=1.0.0->opencensus->ray[default]<3,>=2.30->qiskit-serverless) (0.4.0)\n",
      "Requirement already satisfied: rsa<5,>=3.1.4 in /home/ryukijano/miniconda3/envs/quantum_qiskit/lib/python3.11/site-packages (from google-auth<3.0.dev0,>=2.14.1->google-api-core<3.0.0,>=1.0.0->opencensus->ray[default]<3,>=2.30->qiskit-serverless) (4.9)\n",
      "Requirement already satisfied: pyasn1<0.7.0,>=0.4.6 in /home/ryukijano/miniconda3/envs/quantum_qiskit/lib/python3.11/site-packages (from pyasn1-modules>=0.2.1->google-auth<3.0.dev0,>=2.14.1->google-api-core<3.0.0,>=1.0.0->opencensus->ray[default]<3,>=2.30->qiskit-serverless) (0.6.0)\n"
     ]
    }
   ],
   "source": [
    "!pip install -U qiskit-serverless"
   ]
  },
  {
   "cell_type": "code",
   "execution_count": 2,
   "id": "ead0b8ea",
   "metadata": {},
   "outputs": [
    {
     "name": "stdout",
     "output_type": "stream",
     "text": [
      "0.40.1\n"
     ]
    }
   ],
   "source": [
    "print (qiskit_ibm_runtime.__version__)"
   ]
  },
  {
   "cell_type": "code",
   "execution_count": 24,
   "id": "5dcd802d",
   "metadata": {},
   "outputs": [
    {
     "name": "stdout",
     "output_type": "stream",
     "text": [
      "/bin/bash: /home/ryukijano/miniconda3/lib/libtinfo.so.6: no version information available (required by /bin/bash)\n",
      "Looking in indexes: https://pypi.org/simple, https://pypi.ngc.nvidia.com\n",
      "Requirement already satisfied: qiskit-ibm-runtime in /home/ryukijano/miniconda3/envs/quantum_qiskit/lib/python3.11/site-packages (0.40.1)\n",
      "Requirement already satisfied: requests>=2.19 in /home/ryukijano/miniconda3/envs/quantum_qiskit/lib/python3.11/site-packages (from qiskit-ibm-runtime) (2.32.2)\n",
      "Requirement already satisfied: requests-ntlm>=1.1.0 in /home/ryukijano/miniconda3/envs/quantum_qiskit/lib/python3.11/site-packages (from qiskit-ibm-runtime) (1.2.0)\n",
      "Requirement already satisfied: numpy>=1.13 in /home/ryukijano/miniconda3/envs/quantum_qiskit/lib/python3.11/site-packages (from qiskit-ibm-runtime) (2.2.6)\n",
      "Requirement already satisfied: urllib3>=1.21.1 in /home/ryukijano/miniconda3/envs/quantum_qiskit/lib/python3.11/site-packages (from qiskit-ibm-runtime) (2.2.1)\n",
      "Requirement already satisfied: python-dateutil>=2.8.0 in /home/ryukijano/miniconda3/envs/quantum_qiskit/lib/python3.11/site-packages (from qiskit-ibm-runtime) (2.9.0)\n",
      "Requirement already satisfied: ibm-platform-services>=0.22.6 in /home/ryukijano/miniconda3/envs/quantum_qiskit/lib/python3.11/site-packages (from qiskit-ibm-runtime) (0.53.7)\n",
      "Requirement already satisfied: pydantic>=2.5.0 in /home/ryukijano/miniconda3/envs/quantum_qiskit/lib/python3.11/site-packages (from qiskit-ibm-runtime) (2.7.3)\n",
      "Requirement already satisfied: qiskit>=1.4.1 in /home/ryukijano/miniconda3/envs/quantum_qiskit/lib/python3.11/site-packages (from qiskit-ibm-runtime) (2.1.1)\n",
      "Requirement already satisfied: packaging in /home/ryukijano/miniconda3/envs/quantum_qiskit/lib/python3.11/site-packages (from qiskit-ibm-runtime) (23.2)\n",
      "Requirement already satisfied: ibm-cloud-sdk-core<4.0.0,>=3.19.2 in /home/ryukijano/miniconda3/envs/quantum_qiskit/lib/python3.11/site-packages (from ibm-platform-services>=0.22.6->qiskit-ibm-runtime) (3.20.1)\n",
      "Requirement already satisfied: annotated-types>=0.4.0 in /home/ryukijano/miniconda3/envs/quantum_qiskit/lib/python3.11/site-packages (from pydantic>=2.5.0->qiskit-ibm-runtime) (0.7.0)\n",
      "Requirement already satisfied: pydantic-core==2.18.4 in /home/ryukijano/miniconda3/envs/quantum_qiskit/lib/python3.11/site-packages (from pydantic>=2.5.0->qiskit-ibm-runtime) (2.18.4)\n",
      "Requirement already satisfied: typing-extensions>=4.6.1 in /home/ryukijano/miniconda3/envs/quantum_qiskit/lib/python3.11/site-packages (from pydantic>=2.5.0->qiskit-ibm-runtime) (4.12.2)\n",
      "Requirement already satisfied: six>=1.5 in /home/ryukijano/miniconda3/envs/quantum_qiskit/lib/python3.11/site-packages (from python-dateutil>=2.8.0->qiskit-ibm-runtime) (1.16.0)\n",
      "Requirement already satisfied: rustworkx>=0.15.0 in /home/ryukijano/miniconda3/envs/quantum_qiskit/lib/python3.11/site-packages (from qiskit>=1.4.1->qiskit-ibm-runtime) (0.16.0)\n",
      "Requirement already satisfied: scipy>=1.5 in /home/ryukijano/miniconda3/envs/quantum_qiskit/lib/python3.11/site-packages (from qiskit>=1.4.1->qiskit-ibm-runtime) (1.13.1)\n",
      "Requirement already satisfied: dill>=0.3 in /home/ryukijano/miniconda3/envs/quantum_qiskit/lib/python3.11/site-packages (from qiskit>=1.4.1->qiskit-ibm-runtime) (0.3.8)\n",
      "Requirement already satisfied: stevedore>=3.0.0 in /home/ryukijano/miniconda3/envs/quantum_qiskit/lib/python3.11/site-packages (from qiskit>=1.4.1->qiskit-ibm-runtime) (5.2.0)\n",
      "Requirement already satisfied: charset-normalizer<4,>=2 in /home/ryukijano/miniconda3/envs/quantum_qiskit/lib/python3.11/site-packages (from requests>=2.19->qiskit-ibm-runtime) (3.3.2)\n",
      "Requirement already satisfied: idna<4,>=2.5 in /home/ryukijano/miniconda3/envs/quantum_qiskit/lib/python3.11/site-packages (from requests>=2.19->qiskit-ibm-runtime) (3.7)\n",
      "Requirement already satisfied: certifi>=2017.4.17 in /home/ryukijano/miniconda3/envs/quantum_qiskit/lib/python3.11/site-packages (from requests>=2.19->qiskit-ibm-runtime) (2024.7.4)\n",
      "Requirement already satisfied: cryptography>=1.3 in /home/ryukijano/miniconda3/envs/quantum_qiskit/lib/python3.11/site-packages (from requests-ntlm>=1.1.0->qiskit-ibm-runtime) (42.0.8)\n",
      "Requirement already satisfied: pyspnego>=0.1.6 in /home/ryukijano/miniconda3/envs/quantum_qiskit/lib/python3.11/site-packages (from requests-ntlm>=1.1.0->qiskit-ibm-runtime) (0.10.2)\n",
      "Requirement already satisfied: cffi>=1.12 in /home/ryukijano/miniconda3/envs/quantum_qiskit/lib/python3.11/site-packages (from cryptography>=1.3->requests-ntlm>=1.1.0->qiskit-ibm-runtime) (1.16.0)\n",
      "Requirement already satisfied: PyJWT<3.0.0,>=2.8.0 in /home/ryukijano/miniconda3/envs/quantum_qiskit/lib/python3.11/site-packages (from ibm-cloud-sdk-core<4.0.0,>=3.19.2->ibm-platform-services>=0.22.6->qiskit-ibm-runtime) (2.10.1)\n",
      "Requirement already satisfied: pbr!=2.1.0,>=2.0.0 in /home/ryukijano/miniconda3/envs/quantum_qiskit/lib/python3.11/site-packages (from stevedore>=3.0.0->qiskit>=1.4.1->qiskit-ibm-runtime) (6.0.0)\n",
      "Requirement already satisfied: pycparser in /home/ryukijano/miniconda3/envs/quantum_qiskit/lib/python3.11/site-packages (from cffi>=1.12->cryptography>=1.3->requests-ntlm>=1.1.0->qiskit-ibm-runtime) (2.22)\n"
     ]
    }
   ],
   "source": [
    "!pip install -U qiskit-ibm-runtime"
   ]
  },
  {
   "cell_type": "code",
   "execution_count": 2,
   "id": "b24be52e",
   "metadata": {},
   "outputs": [
    {
     "name": "stdout",
     "output_type": "stream",
     "text": [
      "0.40.1\n"
     ]
    }
   ],
   "source": [
    "import qiskit_ibm_runtime\n",
    "print (qiskit_ibm_runtime.__version__)"
   ]
  },
  {
   "cell_type": "code",
   "execution_count": 4,
   "id": "213df29c",
   "metadata": {},
   "outputs": [
    {
     "name": "stdout",
     "output_type": "stream",
     "text": [
      "/bin/bash: /home/ryukijano/miniconda3/lib/libtinfo.so.6: no version information available (required by /bin/bash)\n",
      "Looking in indexes: https://pypi.org/simple, https://pypi.ngc.nvidia.com\n",
      "Collecting fire-opal\n",
      "  Downloading fire_opal-9.0.0-py3-none-any.whl.metadata (2.6 kB)\n",
      "Collecting qctrl-commons<26.0.0,>=25.0.0 (from fire-opal)\n",
      "  Downloading qctrl_commons-25.0.0-py3-none-any.whl.metadata (2.2 kB)\n",
      "Collecting qctrl-workflow-client<7.0.0,>=6.0.0 (from fire-opal)\n",
      "  Downloading qctrl_workflow_client-6.0.0-py3-none-any.whl.metadata (2.5 kB)\n",
      "Collecting segment-analytics-python<3.0.0,>=2.2.2 (from fire-opal)\n",
      "  Downloading segment_analytics_python-2.3.4-py2.py3-none-any.whl.metadata (1.7 kB)\n",
      "Collecting graphql-core<3.3.0,>=3.2.1 (from qctrl-commons<26.0.0,>=25.0.0->fire-opal)\n",
      "  Downloading graphql_core-3.2.6-py3-none-any.whl.metadata (11 kB)\n",
      "Collecting networkx<3.0.0,>=2.7.0 (from qctrl-commons<26.0.0,>=25.0.0->fire-opal)\n",
      "  Downloading networkx-2.8.8-py3-none-any.whl.metadata (5.1 kB)\n",
      "Collecting numpy<3.0.0,>=2.0.2 (from qctrl-commons<26.0.0,>=25.0.0->fire-opal)\n",
      "  Downloading numpy-2.3.1-cp311-cp311-manylinux_2_28_x86_64.whl.metadata (62 kB)\n",
      "\u001b[2K     \u001b[90m━━━━━━━━━━━━━━━━━━━━━━━━━━━━━━━━━━━━━━━━\u001b[0m \u001b[32m62.1/62.1 kB\u001b[0m \u001b[31m3.8 MB/s\u001b[0m eta \u001b[36m0:00:00\u001b[0m\n",
      "\u001b[?25hRequirement already satisfied: scipy>=1.9.3 in /home/ryukijano/miniconda3/envs/quantum_qiskit/lib/python3.11/site-packages (from qctrl-commons<26.0.0,>=25.0.0->fire-opal) (1.13.1)\n",
      "Requirement already satisfied: sympy<2.0.0,>=1.11.1 in /home/ryukijano/miniconda3/envs/quantum_qiskit/lib/python3.11/site-packages (from qctrl-commons<26.0.0,>=25.0.0->fire-opal) (1.12.1)\n",
      "Collecting gql<4.0.0,>=3.4.0 (from qctrl-workflow-client<7.0.0,>=6.0.0->fire-opal)\n",
      "  Downloading gql-3.5.3-py2.py3-none-any.whl.metadata (9.4 kB)\n",
      "Collecting importlib-metadata<7.0.0,>=6.8.0 (from qctrl-workflow-client<7.0.0,>=6.0.0->fire-opal)\n",
      "  Downloading importlib_metadata-6.11.0-py3-none-any.whl.metadata (4.9 kB)\n",
      "Collecting packaging<24.0.0,>=23.1.0 (from qctrl-workflow-client<7.0.0,>=6.0.0->fire-opal)\n",
      "  Downloading packaging-23.2-py3-none-any.whl.metadata (3.2 kB)\n",
      "Collecting qctrl-client<13.0.0,>=12.0.0 (from qctrl-workflow-client<7.0.0,>=6.0.0->fire-opal)\n",
      "  Downloading qctrl_client-12.0.0-py3-none-any.whl.metadata (2.3 kB)\n",
      "Collecting requests<3.0.0,>=2.32.4 (from qctrl-workflow-client<7.0.0,>=6.0.0->fire-opal)\n",
      "  Downloading requests-2.32.4-py3-none-any.whl.metadata (4.9 kB)\n",
      "Requirement already satisfied: tenacity<9.0.0,>=8.1.0 in /home/ryukijano/miniconda3/envs/quantum_qiskit/lib/python3.11/site-packages (from qctrl-workflow-client<7.0.0,>=6.0.0->fire-opal) (8.3.0)\n",
      "Collecting tomli<3.0.0,>=2.2.1 (from qctrl-workflow-client<7.0.0,>=6.0.0->fire-opal)\n",
      "  Downloading tomli-2.2.1-cp311-cp311-manylinux_2_17_x86_64.manylinux2014_x86_64.whl.metadata (11 kB)\n",
      "Requirement already satisfied: backoff~=2.1 in /home/ryukijano/miniconda3/envs/quantum_qiskit/lib/python3.11/site-packages (from segment-analytics-python<3.0.0,>=2.2.2->fire-opal) (2.2.1)\n",
      "Requirement already satisfied: python-dateutil~=2.2 in /home/ryukijano/miniconda3/envs/quantum_qiskit/lib/python3.11/site-packages (from segment-analytics-python<3.0.0,>=2.2.2->fire-opal) (2.9.0)\n",
      "Collecting PyJWT~=2.10.1 (from segment-analytics-python<3.0.0,>=2.2.2->fire-opal)\n",
      "  Downloading PyJWT-2.10.1-py3-none-any.whl.metadata (4.0 kB)\n",
      "Requirement already satisfied: yarl<2.0,>=1.6 in /home/ryukijano/miniconda3/envs/quantum_qiskit/lib/python3.11/site-packages (from gql<4.0.0,>=3.4.0->qctrl-workflow-client<7.0.0,>=6.0.0->fire-opal) (1.9.4)\n",
      "Requirement already satisfied: anyio<5,>=3.0 in /home/ryukijano/miniconda3/envs/quantum_qiskit/lib/python3.11/site-packages (from gql<4.0.0,>=3.4.0->qctrl-workflow-client<7.0.0,>=6.0.0->fire-opal) (4.4.0)\n",
      "Requirement already satisfied: zipp>=0.5 in /home/ryukijano/miniconda3/envs/quantum_qiskit/lib/python3.11/site-packages (from importlib-metadata<7.0.0,>=6.8.0->qctrl-workflow-client<7.0.0,>=6.0.0->fire-opal) (3.17.0)\n",
      "Requirement already satisfied: six>=1.5 in /home/ryukijano/miniconda3/envs/quantum_qiskit/lib/python3.11/site-packages (from python-dateutil~=2.2->segment-analytics-python<3.0.0,>=2.2.2->fire-opal) (1.16.0)\n",
      "Collecting requests-oauthlib<2.0.0,>=1.3.1 (from qctrl-client<13.0.0,>=12.0.0->qctrl-workflow-client<7.0.0,>=6.0.0->fire-opal)\n",
      "  Downloading requests_oauthlib-1.3.1-py2.py3-none-any.whl.metadata (10 kB)\n",
      "Requirement already satisfied: charset_normalizer<4,>=2 in /home/ryukijano/miniconda3/envs/quantum_qiskit/lib/python3.11/site-packages (from requests<3.0.0,>=2.32.4->qctrl-workflow-client<7.0.0,>=6.0.0->fire-opal) (3.3.2)\n",
      "Requirement already satisfied: idna<4,>=2.5 in /home/ryukijano/miniconda3/envs/quantum_qiskit/lib/python3.11/site-packages (from requests<3.0.0,>=2.32.4->qctrl-workflow-client<7.0.0,>=6.0.0->fire-opal) (3.7)\n",
      "Requirement already satisfied: urllib3<3,>=1.21.1 in /home/ryukijano/miniconda3/envs/quantum_qiskit/lib/python3.11/site-packages (from requests<3.0.0,>=2.32.4->qctrl-workflow-client<7.0.0,>=6.0.0->fire-opal) (2.2.1)\n",
      "Requirement already satisfied: certifi>=2017.4.17 in /home/ryukijano/miniconda3/envs/quantum_qiskit/lib/python3.11/site-packages (from requests<3.0.0,>=2.32.4->qctrl-workflow-client<7.0.0,>=6.0.0->fire-opal) (2024.6.2)\n",
      "Collecting numpy<3.0.0,>=2.0.2 (from qctrl-commons<26.0.0,>=25.0.0->fire-opal)\n",
      "  Downloading numpy-2.2.6-cp311-cp311-manylinux_2_17_x86_64.manylinux2014_x86_64.whl.metadata (62 kB)\n",
      "\u001b[2K     \u001b[90m━━━━━━━━━━━━━━━━━━━━━━━━━━━━━━━━━━━━━━━━\u001b[0m \u001b[32m62.0/62.0 kB\u001b[0m \u001b[31m1.5 MB/s\u001b[0m eta \u001b[36m0:00:00\u001b[0m-:--:--\u001b[0m\n",
      "\u001b[?25hRequirement already satisfied: mpmath<1.4.0,>=1.1.0 in /home/ryukijano/miniconda3/envs/quantum_qiskit/lib/python3.11/site-packages (from sympy<2.0.0,>=1.11.1->qctrl-commons<26.0.0,>=25.0.0->fire-opal) (1.3.0)\n",
      "Requirement already satisfied: sniffio>=1.1 in /home/ryukijano/miniconda3/envs/quantum_qiskit/lib/python3.11/site-packages (from anyio<5,>=3.0->gql<4.0.0,>=3.4.0->qctrl-workflow-client<7.0.0,>=6.0.0->fire-opal) (1.3.1)\n",
      "Collecting oauthlib>=3.0.0 (from requests-oauthlib<2.0.0,>=1.3.1->qctrl-client<13.0.0,>=12.0.0->qctrl-workflow-client<7.0.0,>=6.0.0->fire-opal)\n",
      "  Downloading oauthlib-3.3.1-py3-none-any.whl.metadata (7.9 kB)\n",
      "Requirement already satisfied: multidict>=4.0 in /home/ryukijano/miniconda3/envs/quantum_qiskit/lib/python3.11/site-packages (from yarl<2.0,>=1.6->gql<4.0.0,>=3.4.0->qctrl-workflow-client<7.0.0,>=6.0.0->fire-opal) (6.0.5)\n",
      "Downloading fire_opal-9.0.0-py3-none-any.whl (50 kB)\n",
      "\u001b[2K   \u001b[90m━━━━━━━━━━━━━━━━━━━━━━━━━━━━━━━━━━━━━━━━\u001b[0m \u001b[32m50.5/50.5 kB\u001b[0m \u001b[31m23.3 MB/s\u001b[0m eta \u001b[36m0:00:00\u001b[0m\n",
      "\u001b[?25hDownloading qctrl_commons-25.0.0-py3-none-any.whl (36 kB)\n",
      "Downloading qctrl_workflow_client-6.0.0-py3-none-any.whl (31 kB)\n",
      "Downloading segment_analytics_python-2.3.4-py2.py3-none-any.whl (33 kB)\n",
      "Downloading gql-3.5.3-py2.py3-none-any.whl (74 kB)\n",
      "\u001b[2K   \u001b[90m━━━━━━━━━━━━━━━━━━━━━━━━━━━━━━━━━━━━━━━━\u001b[0m \u001b[32m74.3/74.3 kB\u001b[0m \u001b[31m16.7 MB/s\u001b[0m eta \u001b[36m0:00:00\u001b[0m\n",
      "\u001b[?25hDownloading graphql_core-3.2.6-py3-none-any.whl (203 kB)\n",
      "\u001b[2K   \u001b[90m━━━━━━━━━━━━━━━━━━━━━━━━━━━━━━━━━━━━━━━━\u001b[0m \u001b[32m203.4/203.4 kB\u001b[0m \u001b[31m11.2 MB/s\u001b[0m eta \u001b[36m0:00:00\u001b[0m\n",
      "\u001b[?25hDownloading importlib_metadata-6.11.0-py3-none-any.whl (23 kB)\n",
      "Downloading networkx-2.8.8-py3-none-any.whl (2.0 MB)\n",
      "\u001b[2K   \u001b[90m━━━━━━━━━━━━━━━━━━━━━━━━━━━━━━━━━━━━━━━━\u001b[0m \u001b[32m2.0/2.0 MB\u001b[0m \u001b[31m19.3 MB/s\u001b[0m eta \u001b[36m0:00:00\u001b[0ma \u001b[36m0:00:01\u001b[0m\n",
      "\u001b[?25hDownloading packaging-23.2-py3-none-any.whl (53 kB)\n",
      "\u001b[2K   \u001b[90m━━━━━━━━━━━━━━━━━━━━━━━━━━━━━━━━━━━━━━━━\u001b[0m \u001b[32m53.0/53.0 kB\u001b[0m \u001b[31m87.5 MB/s\u001b[0m eta \u001b[36m0:00:00\u001b[0m\n",
      "\u001b[?25hDownloading PyJWT-2.10.1-py3-none-any.whl (22 kB)\n",
      "Downloading qctrl_client-12.0.0-py3-none-any.whl (37 kB)\n",
      "Downloading requests-2.32.4-py3-none-any.whl (64 kB)\n",
      "\u001b[2K   \u001b[90m━━━━━━━━━━━━━━━━━━━━━━━━━━━━━━━━━━━━━━━━\u001b[0m \u001b[32m64.8/64.8 kB\u001b[0m \u001b[31m182.2 MB/s\u001b[0m eta \u001b[36m0:00:00\u001b[0m\n",
      "\u001b[?25hDownloading numpy-2.2.6-cp311-cp311-manylinux_2_17_x86_64.manylinux2014_x86_64.whl (16.8 MB)\n",
      "\u001b[2K   \u001b[90m━━━━━━━━━━━━━━━━━━━━━━━━━━━━━━━━━━━━━━━━\u001b[0m \u001b[32m16.8/16.8 MB\u001b[0m \u001b[31m29.6 MB/s\u001b[0m eta \u001b[36m0:00:00\u001b[0ma \u001b[36m0:00:01\u001b[0m\n",
      "\u001b[?25hDownloading tomli-2.2.1-cp311-cp311-manylinux_2_17_x86_64.manylinux2014_x86_64.whl (236 kB)\n",
      "\u001b[2K   \u001b[90m━━━━━━━━━━━━━━━━━━━━━━━━━━━━━━━━━━━━━━━\u001b[0m \u001b[32m236.0/236.0 kB\u001b[0m \u001b[31m164.4 MB/s\u001b[0m eta \u001b[36m0:00:00\u001b[0m\n",
      "\u001b[?25hDownloading requests_oauthlib-1.3.1-py2.py3-none-any.whl (23 kB)\n",
      "Downloading oauthlib-3.3.1-py3-none-any.whl (160 kB)\n",
      "\u001b[2K   \u001b[90m━━━━━━━━━━━━━━━━━━━━━━━━━━━━━━━━━━━━━━━━\u001b[0m \u001b[32m160.1/160.1 kB\u001b[0m \u001b[31m96.9 MB/s\u001b[0m eta \u001b[36m0:00:00\u001b[0m\n",
      "\u001b[?25hInstalling collected packages: tomli, requests, PyJWT, packaging, oauthlib, numpy, networkx, importlib-metadata, graphql-core, segment-analytics-python, requests-oauthlib, gql, qctrl-commons, qctrl-client, qctrl-workflow-client, fire-opal\n",
      "  Attempting uninstall: requests\n",
      "    Found existing installation: requests 2.32.2\n",
      "    Uninstalling requests-2.32.2:\n",
      "      Successfully uninstalled requests-2.32.2\n",
      "  Attempting uninstall: PyJWT\n",
      "    Found existing installation: PyJWT 2.8.0\n",
      "    Uninstalling PyJWT-2.8.0:\n",
      "      Successfully uninstalled PyJWT-2.8.0\n",
      "  Attempting uninstall: packaging\n",
      "    Found existing installation: packaging 24.0\n",
      "    Uninstalling packaging-24.0:\n",
      "      Successfully uninstalled packaging-24.0\n",
      "  Attempting uninstall: numpy\n",
      "    Found existing installation: numpy 1.26.4\n",
      "    Uninstalling numpy-1.26.4:\n",
      "      Successfully uninstalled numpy-1.26.4\n",
      "  Attempting uninstall: networkx\n",
      "    Found existing installation: networkx 3.2.1\n",
      "    Uninstalling networkx-3.2.1:\n",
      "      Successfully uninstalled networkx-3.2.1\n",
      "  Attempting uninstall: importlib-metadata\n",
      "    Found existing installation: importlib_metadata 7.1.0\n",
      "    Uninstalling importlib_metadata-7.1.0:\n",
      "      Successfully uninstalled importlib_metadata-7.1.0\n",
      "\u001b[31mERROR: pip's dependency resolver does not currently take into account all the packages that are installed. This behaviour is the source of the following dependency conflicts.\n",
      "ibm-cloud-sdk-core 3.20.1 requires requests<2.32.3,>=2.31.0, but you have requests 2.32.4 which is incompatible.\u001b[0m\u001b[31m\n",
      "\u001b[0mSuccessfully installed PyJWT-2.10.1 fire-opal-9.0.0 gql-3.5.3 graphql-core-3.2.6 importlib-metadata-6.11.0 networkx-2.8.8 numpy-2.2.6 oauthlib-3.3.1 packaging-23.2 qctrl-client-12.0.0 qctrl-commons-25.0.0 qctrl-workflow-client-6.0.0 requests-2.32.4 requests-oauthlib-1.3.1 segment-analytics-python-2.3.4 tomli-2.2.1\n"
     ]
    }
   ],
   "source": [
    "!pip install fire-opal"
   ]
  },
  {
   "cell_type": "code",
   "execution_count": null,
   "id": "74b73084",
   "metadata": {},
   "outputs": [
    {
     "name": "stdout",
     "output_type": "stream",
     "text": [
      "/bin/bash: /home/ryukijano/miniconda3/lib/libtinfo.so.6: no version information available (required by /bin/bash)\n",
      "Looking in indexes: https://pypi.org/simple, https://pypi.ngc.nvidia.com\n",
      "Collecting qiskit-ibm-catalog\n",
      "  Downloading qiskit_ibm_catalog-0.9.0-py3-none-any.whl.metadata (16 kB)\n",
      "Requirement already satisfied: certifi>=2021.5.30 in /home/ryukijano/miniconda3/envs/quantum_qiskit/lib/python3.11/site-packages (from qiskit-ibm-catalog) (2024.6.2)\n",
      "Requirement already satisfied: importlib-metadata>=4.8.1 in /home/ryukijano/miniconda3/envs/quantum_qiskit/lib/python3.11/site-packages (from qiskit-ibm-catalog) (6.11.0)\n",
      "Collecting qiskit-serverless~=0.25.0 (from qiskit-ibm-catalog)\n",
      "  Downloading qiskit_serverless-0.25.1-py3-none-any.whl.metadata (5.4 kB)\n",
      "Requirement already satisfied: zipp>=0.5 in /home/ryukijano/miniconda3/envs/quantum_qiskit/lib/python3.11/site-packages (from importlib-metadata>=4.8.1->qiskit-ibm-catalog) (3.17.0)\n",
      "Collecting ray<3,>=2.30 (from ray[default]<3,>=2.30->qiskit-serverless~=0.25.0->qiskit-ibm-catalog)\n",
      "  Downloading ray-2.48.0-cp311-cp311-manylinux2014_x86_64.whl.metadata (19 kB)\n",
      "Requirement already satisfied: requests<3,>=2.32.2 in /home/ryukijano/miniconda3/envs/quantum_qiskit/lib/python3.11/site-packages (from qiskit-serverless~=0.25.0->qiskit-ibm-catalog) (2.32.4)\n",
      "Requirement already satisfied: qiskit<3,>=1.4 in /home/ryukijano/miniconda3/envs/quantum_qiskit/lib/python3.11/site-packages (from qiskit[qpy-compat]<3,>=1.4->qiskit-serverless~=0.25.0->qiskit-ibm-catalog) (1.4.0)\n",
      "Collecting qiskit-ibm-runtime<1,>=0.29.0 (from qiskit-serverless~=0.25.0->qiskit-ibm-catalog)\n",
      "  Downloading qiskit_ibm_runtime-0.40.1-py3-none-any.whl.metadata (21 kB)\n",
      "Requirement already satisfied: cloudpickle==2.2.1 in /home/ryukijano/miniconda3/envs/quantum_qiskit/lib/python3.11/site-packages (from qiskit-serverless~=0.25.0->qiskit-ibm-catalog) (2.2.1)\n",
      "Requirement already satisfied: tqdm<5,>=4.66.3 in /home/ryukijano/miniconda3/envs/quantum_qiskit/lib/python3.11/site-packages (from qiskit-serverless~=0.25.0->qiskit-ibm-catalog) (4.66.4)\n",
      "Requirement already satisfied: opentelemetry-api<1.33.1,>=1.18.0 in /home/ryukijano/miniconda3/envs/quantum_qiskit/lib/python3.11/site-packages (from qiskit-serverless~=0.25.0->qiskit-ibm-catalog) (1.25.0)\n",
      "Requirement already satisfied: opentelemetry-sdk<1.33.1,>=1.18.0 in /home/ryukijano/miniconda3/envs/quantum_qiskit/lib/python3.11/site-packages (from qiskit-serverless~=0.25.0->qiskit-ibm-catalog) (1.25.0)\n",
      "Requirement already satisfied: opentelemetry-exporter-otlp-proto-grpc<1.33.1,>=1.18.0 in /home/ryukijano/miniconda3/envs/quantum_qiskit/lib/python3.11/site-packages (from qiskit-serverless~=0.25.0->qiskit-ibm-catalog) (1.25.0)\n",
      "Requirement already satisfied: s3fs>=2023.6.0 in /home/ryukijano/miniconda3/envs/quantum_qiskit/lib/python3.11/site-packages (from qiskit-serverless~=0.25.0->qiskit-ibm-catalog) (2024.6.0)\n",
      "Requirement already satisfied: opentelemetry-instrumentation-requests>=0.40b0 in /home/ryukijano/miniconda3/envs/quantum_qiskit/lib/python3.11/site-packages (from qiskit-serverless~=0.25.0->qiskit-ibm-catalog) (0.46b0)\n",
      "Collecting ipywidgets<9,>=8.1.6 (from qiskit-serverless~=0.25.0->qiskit-ibm-catalog)\n",
      "  Downloading ipywidgets-8.1.7-py3-none-any.whl.metadata (2.4 kB)\n",
      "Requirement already satisfied: ipython<9,>=8.10.0 in /home/ryukijano/miniconda3/envs/quantum_qiskit/lib/python3.11/site-packages (from qiskit-serverless~=0.25.0->qiskit-ibm-catalog) (8.25.0)\n",
      "Requirement already satisfied: numpy<3,>=1.17 in /home/ryukijano/miniconda3/envs/quantum_qiskit/lib/python3.11/site-packages (from qiskit-serverless~=0.25.0->qiskit-ibm-catalog) (2.2.6)\n",
      "Requirement already satisfied: pyarrow<19,>=16.0.0 in /home/ryukijano/miniconda3/envs/quantum_qiskit/lib/python3.11/site-packages (from qiskit-serverless~=0.25.0->qiskit-ibm-catalog) (16.1.0)\n",
      "Collecting aiohttp<4,>=3.10.0 (from qiskit-serverless~=0.25.0->qiskit-ibm-catalog)\n",
      "  Downloading aiohttp-3.12.14-cp311-cp311-manylinux_2_17_x86_64.manylinux2014_x86_64.whl.metadata (7.6 kB)\n",
      "Collecting zipp>=0.5 (from importlib-metadata>=4.8.1->qiskit-ibm-catalog)\n",
      "  Downloading zipp-3.19.1-py3-none-any.whl.metadata (3.5 kB)\n",
      "Collecting certifi>=2021.5.30 (from qiskit-ibm-catalog)\n",
      "  Downloading certifi-2024.7.4-py3-none-any.whl.metadata (2.2 kB)\n",
      "Collecting aiohappyeyeballs>=2.5.0 (from aiohttp<4,>=3.10.0->qiskit-serverless~=0.25.0->qiskit-ibm-catalog)\n",
      "  Downloading aiohappyeyeballs-2.6.1-py3-none-any.whl.metadata (5.9 kB)\n",
      "Collecting aiosignal>=1.4.0 (from aiohttp<4,>=3.10.0->qiskit-serverless~=0.25.0->qiskit-ibm-catalog)\n",
      "  Downloading aiosignal-1.4.0-py3-none-any.whl.metadata (3.7 kB)\n",
      "Requirement already satisfied: attrs>=17.3.0 in /home/ryukijano/miniconda3/envs/quantum_qiskit/lib/python3.11/site-packages (from aiohttp<4,>=3.10.0->qiskit-serverless~=0.25.0->qiskit-ibm-catalog) (23.2.0)\n",
      "Requirement already satisfied: frozenlist>=1.1.1 in /home/ryukijano/miniconda3/envs/quantum_qiskit/lib/python3.11/site-packages (from aiohttp<4,>=3.10.0->qiskit-serverless~=0.25.0->qiskit-ibm-catalog) (1.4.1)\n",
      "Requirement already satisfied: multidict<7.0,>=4.5 in /home/ryukijano/miniconda3/envs/quantum_qiskit/lib/python3.11/site-packages (from aiohttp<4,>=3.10.0->qiskit-serverless~=0.25.0->qiskit-ibm-catalog) (6.0.5)\n",
      "Collecting propcache>=0.2.0 (from aiohttp<4,>=3.10.0->qiskit-serverless~=0.25.0->qiskit-ibm-catalog)\n",
      "  Downloading propcache-0.3.2-cp311-cp311-manylinux_2_17_x86_64.manylinux2014_x86_64.whl.metadata (12 kB)\n",
      "Collecting yarl<2.0,>=1.17.0 (from aiohttp<4,>=3.10.0->qiskit-serverless~=0.25.0->qiskit-ibm-catalog)\n",
      "  Downloading yarl-1.20.1-cp311-cp311-manylinux_2_17_x86_64.manylinux2014_x86_64.whl.metadata (73 kB)\n",
      "\u001b[2K     \u001b[90m━━━━━━━━━━━━━━━━━━━━━━━━━━━━━━━━━━━━━━━\u001b[0m \u001b[32m73.9/73.9 kB\u001b[0m \u001b[31m579.4 kB/s\u001b[0m eta \u001b[36m0:00:00\u001b[0m \u001b[36m0:00:01\u001b[0m\n",
      "\u001b[?25hRequirement already satisfied: decorator in /home/ryukijano/miniconda3/envs/quantum_qiskit/lib/python3.11/site-packages (from ipython<9,>=8.10.0->qiskit-serverless~=0.25.0->qiskit-ibm-catalog) (5.1.1)\n",
      "Requirement already satisfied: jedi>=0.16 in /home/ryukijano/miniconda3/envs/quantum_qiskit/lib/python3.11/site-packages (from ipython<9,>=8.10.0->qiskit-serverless~=0.25.0->qiskit-ibm-catalog) (0.19.1)\n",
      "Requirement already satisfied: matplotlib-inline in /home/ryukijano/miniconda3/envs/quantum_qiskit/lib/python3.11/site-packages (from ipython<9,>=8.10.0->qiskit-serverless~=0.25.0->qiskit-ibm-catalog) (0.1.7)\n",
      "Requirement already satisfied: prompt-toolkit<3.1.0,>=3.0.41 in /home/ryukijano/miniconda3/envs/quantum_qiskit/lib/python3.11/site-packages (from ipython<9,>=8.10.0->qiskit-serverless~=0.25.0->qiskit-ibm-catalog) (3.0.46)\n",
      "Requirement already satisfied: pygments>=2.4.0 in /home/ryukijano/miniconda3/envs/quantum_qiskit/lib/python3.11/site-packages (from ipython<9,>=8.10.0->qiskit-serverless~=0.25.0->qiskit-ibm-catalog) (2.18.0)\n",
      "Requirement already satisfied: stack-data in /home/ryukijano/miniconda3/envs/quantum_qiskit/lib/python3.11/site-packages (from ipython<9,>=8.10.0->qiskit-serverless~=0.25.0->qiskit-ibm-catalog) (0.6.2)\n",
      "Requirement already satisfied: traitlets>=5.13.0 in /home/ryukijano/miniconda3/envs/quantum_qiskit/lib/python3.11/site-packages (from ipython<9,>=8.10.0->qiskit-serverless~=0.25.0->qiskit-ibm-catalog) (5.14.3)\n",
      "Requirement already satisfied: typing-extensions>=4.6 in /home/ryukijano/miniconda3/envs/quantum_qiskit/lib/python3.11/site-packages (from ipython<9,>=8.10.0->qiskit-serverless~=0.25.0->qiskit-ibm-catalog) (4.12.2)\n",
      "Requirement already satisfied: pexpect>4.3 in /home/ryukijano/miniconda3/envs/quantum_qiskit/lib/python3.11/site-packages (from ipython<9,>=8.10.0->qiskit-serverless~=0.25.0->qiskit-ibm-catalog) (4.9.0)\n",
      "Requirement already satisfied: comm>=0.1.3 in /home/ryukijano/miniconda3/envs/quantum_qiskit/lib/python3.11/site-packages (from ipywidgets<9,>=8.1.6->qiskit-serverless~=0.25.0->qiskit-ibm-catalog) (0.2.2)\n",
      "Collecting widgetsnbextension~=4.0.14 (from ipywidgets<9,>=8.1.6->qiskit-serverless~=0.25.0->qiskit-ibm-catalog)\n",
      "  Downloading widgetsnbextension-4.0.14-py3-none-any.whl.metadata (1.6 kB)\n",
      "Collecting jupyterlab_widgets~=3.0.15 (from ipywidgets<9,>=8.1.6->qiskit-serverless~=0.25.0->qiskit-ibm-catalog)\n",
      "  Downloading jupyterlab_widgets-3.0.15-py3-none-any.whl.metadata (20 kB)\n",
      "Requirement already satisfied: deprecated>=1.2.6 in /home/ryukijano/miniconda3/envs/quantum_qiskit/lib/python3.11/site-packages (from opentelemetry-api<1.33.1,>=1.18.0->qiskit-serverless~=0.25.0->qiskit-ibm-catalog) (1.2.14)\n",
      "Requirement already satisfied: googleapis-common-protos~=1.52 in /home/ryukijano/miniconda3/envs/quantum_qiskit/lib/python3.11/site-packages (from opentelemetry-exporter-otlp-proto-grpc<1.33.1,>=1.18.0->qiskit-serverless~=0.25.0->qiskit-ibm-catalog) (1.63.1)\n",
      "Requirement already satisfied: grpcio<2.0.0,>=1.0.0 in /home/ryukijano/miniconda3/envs/quantum_qiskit/lib/python3.11/site-packages (from opentelemetry-exporter-otlp-proto-grpc<1.33.1,>=1.18.0->qiskit-serverless~=0.25.0->qiskit-ibm-catalog) (1.64.1)\n",
      "Requirement already satisfied: opentelemetry-exporter-otlp-proto-common==1.25.0 in /home/ryukijano/miniconda3/envs/quantum_qiskit/lib/python3.11/site-packages (from opentelemetry-exporter-otlp-proto-grpc<1.33.1,>=1.18.0->qiskit-serverless~=0.25.0->qiskit-ibm-catalog) (1.25.0)\n",
      "Requirement already satisfied: opentelemetry-proto==1.25.0 in /home/ryukijano/miniconda3/envs/quantum_qiskit/lib/python3.11/site-packages (from opentelemetry-exporter-otlp-proto-grpc<1.33.1,>=1.18.0->qiskit-serverless~=0.25.0->qiskit-ibm-catalog) (1.25.0)\n",
      "Requirement already satisfied: protobuf<5.0,>=3.19 in /home/ryukijano/miniconda3/envs/quantum_qiskit/lib/python3.11/site-packages (from opentelemetry-proto==1.25.0->opentelemetry-exporter-otlp-proto-grpc<1.33.1,>=1.18.0->qiskit-serverless~=0.25.0->qiskit-ibm-catalog) (4.25.3)\n",
      "Requirement already satisfied: opentelemetry-instrumentation==0.46b0 in /home/ryukijano/miniconda3/envs/quantum_qiskit/lib/python3.11/site-packages (from opentelemetry-instrumentation-requests>=0.40b0->qiskit-serverless~=0.25.0->qiskit-ibm-catalog) (0.46b0)\n",
      "Requirement already satisfied: opentelemetry-semantic-conventions==0.46b0 in /home/ryukijano/miniconda3/envs/quantum_qiskit/lib/python3.11/site-packages (from opentelemetry-instrumentation-requests>=0.40b0->qiskit-serverless~=0.25.0->qiskit-ibm-catalog) (0.46b0)\n",
      "Requirement already satisfied: opentelemetry-util-http==0.46b0 in /home/ryukijano/miniconda3/envs/quantum_qiskit/lib/python3.11/site-packages (from opentelemetry-instrumentation-requests>=0.40b0->qiskit-serverless~=0.25.0->qiskit-ibm-catalog) (0.46b0)\n",
      "Requirement already satisfied: setuptools>=16.0 in /home/ryukijano/miniconda3/envs/quantum_qiskit/lib/python3.11/site-packages (from opentelemetry-instrumentation==0.46b0->opentelemetry-instrumentation-requests>=0.40b0->qiskit-serverless~=0.25.0->qiskit-ibm-catalog) (69.5.1)\n",
      "Requirement already satisfied: wrapt<2.0.0,>=1.0.0 in /home/ryukijano/miniconda3/envs/quantum_qiskit/lib/python3.11/site-packages (from opentelemetry-instrumentation==0.46b0->opentelemetry-instrumentation-requests>=0.40b0->qiskit-serverless~=0.25.0->qiskit-ibm-catalog) (1.16.0)\n",
      "Requirement already satisfied: rustworkx>=0.15.0 in /home/ryukijano/miniconda3/envs/quantum_qiskit/lib/python3.11/site-packages (from qiskit<3,>=1.4->qiskit[qpy-compat]<3,>=1.4->qiskit-serverless~=0.25.0->qiskit-ibm-catalog) (0.16.0)\n",
      "Requirement already satisfied: scipy>=1.5 in /home/ryukijano/miniconda3/envs/quantum_qiskit/lib/python3.11/site-packages (from qiskit<3,>=1.4->qiskit[qpy-compat]<3,>=1.4->qiskit-serverless~=0.25.0->qiskit-ibm-catalog) (1.13.1)\n",
      "Requirement already satisfied: sympy>=1.3 in /home/ryukijano/miniconda3/envs/quantum_qiskit/lib/python3.11/site-packages (from qiskit<3,>=1.4->qiskit[qpy-compat]<3,>=1.4->qiskit-serverless~=0.25.0->qiskit-ibm-catalog) (1.12.1)\n",
      "Requirement already satisfied: dill>=0.3 in /home/ryukijano/miniconda3/envs/quantum_qiskit/lib/python3.11/site-packages (from qiskit<3,>=1.4->qiskit[qpy-compat]<3,>=1.4->qiskit-serverless~=0.25.0->qiskit-ibm-catalog) (0.3.8)\n",
      "Requirement already satisfied: python-dateutil>=2.8.0 in /home/ryukijano/miniconda3/envs/quantum_qiskit/lib/python3.11/site-packages (from qiskit<3,>=1.4->qiskit[qpy-compat]<3,>=1.4->qiskit-serverless~=0.25.0->qiskit-ibm-catalog) (2.9.0)\n",
      "Requirement already satisfied: stevedore>=3.0.0 in /home/ryukijano/miniconda3/envs/quantum_qiskit/lib/python3.11/site-packages (from qiskit<3,>=1.4->qiskit[qpy-compat]<3,>=1.4->qiskit-serverless~=0.25.0->qiskit-ibm-catalog) (5.2.0)\n",
      "Requirement already satisfied: symengine<0.14,>=0.11 in /home/ryukijano/miniconda3/envs/quantum_qiskit/lib/python3.11/site-packages (from qiskit<3,>=1.4->qiskit[qpy-compat]<3,>=1.4->qiskit-serverless~=0.25.0->qiskit-ibm-catalog) (0.11.0)\n",
      "Requirement already satisfied: requests-ntlm>=1.1.0 in /home/ryukijano/miniconda3/envs/quantum_qiskit/lib/python3.11/site-packages (from qiskit-ibm-runtime<1,>=0.29.0->qiskit-serverless~=0.25.0->qiskit-ibm-catalog) (1.2.0)\n",
      "Requirement already satisfied: urllib3>=1.21.1 in /home/ryukijano/miniconda3/envs/quantum_qiskit/lib/python3.11/site-packages (from qiskit-ibm-runtime<1,>=0.29.0->qiskit-serverless~=0.25.0->qiskit-ibm-catalog) (2.2.1)\n",
      "Requirement already satisfied: ibm-platform-services>=0.22.6 in /home/ryukijano/miniconda3/envs/quantum_qiskit/lib/python3.11/site-packages (from qiskit-ibm-runtime<1,>=0.29.0->qiskit-serverless~=0.25.0->qiskit-ibm-catalog) (0.53.7)\n",
      "Requirement already satisfied: pydantic>=2.5.0 in /home/ryukijano/miniconda3/envs/quantum_qiskit/lib/python3.11/site-packages (from qiskit-ibm-runtime<1,>=0.29.0->qiskit-serverless~=0.25.0->qiskit-ibm-catalog) (2.7.3)\n",
      "Collecting qiskit<3,>=1.4 (from qiskit[qpy-compat]<3,>=1.4->qiskit-serverless~=0.25.0->qiskit-ibm-catalog)\n",
      "  Downloading qiskit-2.1.1-cp39-abi3-manylinux_2_17_x86_64.manylinux2014_x86_64.whl.metadata (12 kB)\n",
      "Requirement already satisfied: packaging in /home/ryukijano/miniconda3/envs/quantum_qiskit/lib/python3.11/site-packages (from qiskit-ibm-runtime<1,>=0.29.0->qiskit-serverless~=0.25.0->qiskit-ibm-catalog) (23.2)\n",
      "\u001b[33mWARNING: qiskit 1.4.0 does not provide the extra 'qpy-compat'\u001b[0m\u001b[33m\n",
      "\u001b[0mINFO: pip is looking at multiple versions of qiskit[qpy-compat] to determine which version is compatible with other requirements. This could take a while.\n",
      "Requirement already satisfied: click>=7.0 in /home/ryukijano/miniconda3/envs/quantum_qiskit/lib/python3.11/site-packages (from ray<3,>=2.30->ray[default]<3,>=2.30->qiskit-serverless~=0.25.0->qiskit-ibm-catalog) (8.1.7)\n",
      "Requirement already satisfied: filelock in /home/ryukijano/miniconda3/envs/quantum_qiskit/lib/python3.11/site-packages (from ray<3,>=2.30->ray[default]<3,>=2.30->qiskit-serverless~=0.25.0->qiskit-ibm-catalog) (3.14.0)\n",
      "Requirement already satisfied: jsonschema in /home/ryukijano/miniconda3/envs/quantum_qiskit/lib/python3.11/site-packages (from ray<3,>=2.30->ray[default]<3,>=2.30->qiskit-serverless~=0.25.0->qiskit-ibm-catalog) (4.22.0)\n",
      "Requirement already satisfied: msgpack<2.0.0,>=1.0.0 in /home/ryukijano/miniconda3/envs/quantum_qiskit/lib/python3.11/site-packages (from ray<3,>=2.30->ray[default]<3,>=2.30->qiskit-serverless~=0.25.0->qiskit-ibm-catalog) (1.0.8)\n",
      "Requirement already satisfied: pyyaml in /home/ryukijano/miniconda3/envs/quantum_qiskit/lib/python3.11/site-packages (from ray<3,>=2.30->ray[default]<3,>=2.30->qiskit-serverless~=0.25.0->qiskit-ibm-catalog) (6.0.1)\n",
      "Requirement already satisfied: aiohttp_cors in /home/ryukijano/miniconda3/envs/quantum_qiskit/lib/python3.11/site-packages (from ray[default]<3,>=2.30->qiskit-serverless~=0.25.0->qiskit-ibm-catalog) (0.7.0)\n",
      "Requirement already satisfied: colorful in /home/ryukijano/miniconda3/envs/quantum_qiskit/lib/python3.11/site-packages (from ray[default]<3,>=2.30->qiskit-serverless~=0.25.0->qiskit-ibm-catalog) (0.5.6)\n",
      "Requirement already satisfied: py-spy>=0.2.0 in /home/ryukijano/miniconda3/envs/quantum_qiskit/lib/python3.11/site-packages (from ray[default]<3,>=2.30->qiskit-serverless~=0.25.0->qiskit-ibm-catalog) (0.3.14)\n",
      "Requirement already satisfied: opencensus in /home/ryukijano/miniconda3/envs/quantum_qiskit/lib/python3.11/site-packages (from ray[default]<3,>=2.30->qiskit-serverless~=0.25.0->qiskit-ibm-catalog) (0.11.4)\n",
      "INFO: pip is looking at multiple versions of ray[default] to determine which version is compatible with other requirements. This could take a while.\n",
      "Collecting ray[default]<3,>=2.30 (from qiskit-serverless~=0.25.0->qiskit-ibm-catalog)\n",
      "  Downloading ray-2.47.1-cp311-cp311-manylinux2014_x86_64.whl.metadata (20 kB)\n",
      "Collecting opentelemetry-exporter-prometheus (from ray[default]<3,>=2.30->qiskit-serverless~=0.25.0->qiskit-ibm-catalog)\n",
      "  Downloading opentelemetry_exporter_prometheus-0.56b0-py3-none-any.whl.metadata (1.8 kB)\n",
      "Requirement already satisfied: prometheus_client>=0.7.1 in /home/ryukijano/miniconda3/envs/quantum_qiskit/lib/python3.11/site-packages (from ray[default]<3,>=2.30->qiskit-serverless~=0.25.0->qiskit-ibm-catalog) (0.20.0)\n",
      "Requirement already satisfied: smart_open in /home/ryukijano/miniconda3/envs/quantum_qiskit/lib/python3.11/site-packages (from ray[default]<3,>=2.30->qiskit-serverless~=0.25.0->qiskit-ibm-catalog) (7.0.4)\n",
      "Requirement already satisfied: virtualenv!=20.21.1,>=20.0.24 in /home/ryukijano/miniconda3/envs/quantum_qiskit/lib/python3.11/site-packages (from ray[default]<3,>=2.30->qiskit-serverless~=0.25.0->qiskit-ibm-catalog) (20.26.2)\n",
      "Requirement already satisfied: charset_normalizer<4,>=2 in /home/ryukijano/miniconda3/envs/quantum_qiskit/lib/python3.11/site-packages (from requests<3,>=2.32.2->qiskit-serverless~=0.25.0->qiskit-ibm-catalog) (3.3.2)\n",
      "Requirement already satisfied: idna<4,>=2.5 in /home/ryukijano/miniconda3/envs/quantum_qiskit/lib/python3.11/site-packages (from requests<3,>=2.32.2->qiskit-serverless~=0.25.0->qiskit-ibm-catalog) (3.7)\n",
      "Requirement already satisfied: aiobotocore<3.0.0,>=2.5.4 in /home/ryukijano/miniconda3/envs/quantum_qiskit/lib/python3.11/site-packages (from s3fs>=2023.6.0->qiskit-serverless~=0.25.0->qiskit-ibm-catalog) (2.13.0)\n",
      "Requirement already satisfied: fsspec==2024.6.0.* in /home/ryukijano/miniconda3/envs/quantum_qiskit/lib/python3.11/site-packages (from s3fs>=2023.6.0->qiskit-serverless~=0.25.0->qiskit-ibm-catalog) (2024.6.0)\n",
      "Requirement already satisfied: botocore<1.34.107,>=1.34.70 in /home/ryukijano/miniconda3/envs/quantum_qiskit/lib/python3.11/site-packages (from aiobotocore<3.0.0,>=2.5.4->s3fs>=2023.6.0->qiskit-serverless~=0.25.0->qiskit-ibm-catalog) (1.34.106)\n",
      "Requirement already satisfied: aioitertools<1.0.0,>=0.5.1 in /home/ryukijano/miniconda3/envs/quantum_qiskit/lib/python3.11/site-packages (from aiobotocore<3.0.0,>=2.5.4->s3fs>=2023.6.0->qiskit-serverless~=0.25.0->qiskit-ibm-catalog) (0.11.0)\n",
      "Requirement already satisfied: ibm-cloud-sdk-core<4.0.0,>=3.19.2 in /home/ryukijano/miniconda3/envs/quantum_qiskit/lib/python3.11/site-packages (from ibm-platform-services>=0.22.6->qiskit-ibm-runtime<1,>=0.29.0->qiskit-serverless~=0.25.0->qiskit-ibm-catalog) (3.20.1)\n",
      "Requirement already satisfied: parso<0.9.0,>=0.8.3 in /home/ryukijano/miniconda3/envs/quantum_qiskit/lib/python3.11/site-packages (from jedi>=0.16->ipython<9,>=8.10.0->qiskit-serverless~=0.25.0->qiskit-ibm-catalog) (0.8.4)\n",
      "Requirement already satisfied: ptyprocess>=0.5 in /home/ryukijano/miniconda3/envs/quantum_qiskit/lib/python3.11/site-packages (from pexpect>4.3->ipython<9,>=8.10.0->qiskit-serverless~=0.25.0->qiskit-ibm-catalog) (0.7.0)\n",
      "Requirement already satisfied: wcwidth in /home/ryukijano/miniconda3/envs/quantum_qiskit/lib/python3.11/site-packages (from prompt-toolkit<3.1.0,>=3.0.41->ipython<9,>=8.10.0->qiskit-serverless~=0.25.0->qiskit-ibm-catalog) (0.2.13)\n",
      "Requirement already satisfied: annotated-types>=0.4.0 in /home/ryukijano/miniconda3/envs/quantum_qiskit/lib/python3.11/site-packages (from pydantic>=2.5.0->qiskit-ibm-runtime<1,>=0.29.0->qiskit-serverless~=0.25.0->qiskit-ibm-catalog) (0.7.0)\n",
      "Requirement already satisfied: pydantic-core==2.18.4 in /home/ryukijano/miniconda3/envs/quantum_qiskit/lib/python3.11/site-packages (from pydantic>=2.5.0->qiskit-ibm-runtime<1,>=0.29.0->qiskit-serverless~=0.25.0->qiskit-ibm-catalog) (2.18.4)\n",
      "Requirement already satisfied: six>=1.5 in /home/ryukijano/miniconda3/envs/quantum_qiskit/lib/python3.11/site-packages (from python-dateutil>=2.8.0->qiskit<3,>=1.4->qiskit[qpy-compat]<3,>=1.4->qiskit-serverless~=0.25.0->qiskit-ibm-catalog) (1.16.0)\n",
      "Requirement already satisfied: cryptography>=1.3 in /home/ryukijano/miniconda3/envs/quantum_qiskit/lib/python3.11/site-packages (from requests-ntlm>=1.1.0->qiskit-ibm-runtime<1,>=0.29.0->qiskit-serverless~=0.25.0->qiskit-ibm-catalog) (42.0.8)\n",
      "Requirement already satisfied: pyspnego>=0.1.6 in /home/ryukijano/miniconda3/envs/quantum_qiskit/lib/python3.11/site-packages (from requests-ntlm>=1.1.0->qiskit-ibm-runtime<1,>=0.29.0->qiskit-serverless~=0.25.0->qiskit-ibm-catalog) (0.10.2)\n",
      "Requirement already satisfied: pbr!=2.1.0,>=2.0.0 in /home/ryukijano/miniconda3/envs/quantum_qiskit/lib/python3.11/site-packages (from stevedore>=3.0.0->qiskit<3,>=1.4->qiskit[qpy-compat]<3,>=1.4->qiskit-serverless~=0.25.0->qiskit-ibm-catalog) (6.0.0)\n",
      "Requirement already satisfied: mpmath<1.4.0,>=1.1.0 in /home/ryukijano/miniconda3/envs/quantum_qiskit/lib/python3.11/site-packages (from sympy>=1.3->qiskit<3,>=1.4->qiskit[qpy-compat]<3,>=1.4->qiskit-serverless~=0.25.0->qiskit-ibm-catalog) (1.3.0)\n",
      "Requirement already satisfied: distlib<1,>=0.3.7 in /home/ryukijano/miniconda3/envs/quantum_qiskit/lib/python3.11/site-packages (from virtualenv!=20.21.1,>=20.0.24->ray[default]<3,>=2.30->qiskit-serverless~=0.25.0->qiskit-ibm-catalog) (0.3.8)\n",
      "Requirement already satisfied: platformdirs<5,>=3.9.1 in /home/ryukijano/miniconda3/envs/quantum_qiskit/lib/python3.11/site-packages (from virtualenv!=20.21.1,>=20.0.24->ray[default]<3,>=2.30->qiskit-serverless~=0.25.0->qiskit-ibm-catalog) (4.2.2)\n",
      "Requirement already satisfied: jsonschema-specifications>=2023.03.6 in /home/ryukijano/miniconda3/envs/quantum_qiskit/lib/python3.11/site-packages (from jsonschema->ray<3,>=2.30->ray[default]<3,>=2.30->qiskit-serverless~=0.25.0->qiskit-ibm-catalog) (2023.12.1)\n",
      "Requirement already satisfied: referencing>=0.28.4 in /home/ryukijano/miniconda3/envs/quantum_qiskit/lib/python3.11/site-packages (from jsonschema->ray<3,>=2.30->ray[default]<3,>=2.30->qiskit-serverless~=0.25.0->qiskit-ibm-catalog) (0.35.1)\n",
      "Requirement already satisfied: rpds-py>=0.7.1 in /home/ryukijano/miniconda3/envs/quantum_qiskit/lib/python3.11/site-packages (from jsonschema->ray<3,>=2.30->ray[default]<3,>=2.30->qiskit-serverless~=0.25.0->qiskit-ibm-catalog) (0.18.1)\n",
      "Requirement already satisfied: opencensus-context>=0.1.3 in /home/ryukijano/miniconda3/envs/quantum_qiskit/lib/python3.11/site-packages (from opencensus->ray[default]<3,>=2.30->qiskit-serverless~=0.25.0->qiskit-ibm-catalog) (0.1.3)\n",
      "Requirement already satisfied: google-api-core<3.0.0,>=1.0.0 in /home/ryukijano/miniconda3/envs/quantum_qiskit/lib/python3.11/site-packages (from opencensus->ray[default]<3,>=2.30->qiskit-serverless~=0.25.0->qiskit-ibm-catalog) (2.19.0)\n",
      "INFO: pip is looking at multiple versions of opentelemetry-exporter-prometheus to determine which version is compatible with other requirements. This could take a while.\n",
      "  Downloading opentelemetry_exporter_prometheus-0.55b1-py3-none-any.whl.metadata (1.9 kB)\n",
      "  Downloading opentelemetry_exporter_prometheus-0.55b0-py3-none-any.whl.metadata (1.9 kB)\n",
      "  Downloading opentelemetry_exporter_prometheus-0.54b1-py3-none-any.whl.metadata (1.9 kB)\n",
      "  Downloading opentelemetry_exporter_prometheus-0.54b0-py3-none-any.whl.metadata (1.9 kB)\n",
      "  Downloading opentelemetry_exporter_prometheus-0.53b1-py3-none-any.whl.metadata (1.9 kB)\n",
      "  Downloading opentelemetry_exporter_prometheus-0.53b0-py3-none-any.whl.metadata (1.9 kB)\n",
      "  Downloading opentelemetry_exporter_prometheus-0.52b1-py3-none-any.whl.metadata (1.9 kB)\n",
      "INFO: pip is still looking at multiple versions of opentelemetry-exporter-prometheus to determine which version is compatible with other requirements. This could take a while.\n",
      "  Downloading opentelemetry_exporter_prometheus-0.52b0-py3-none-any.whl.metadata (1.9 kB)\n",
      "  Downloading opentelemetry_exporter_prometheus-0.51b0-py3-none-any.whl.metadata (1.9 kB)\n",
      "  Downloading opentelemetry_exporter_prometheus-0.50b0-py3-none-any.whl.metadata (1.8 kB)\n",
      "  Downloading opentelemetry_exporter_prometheus-0.49b2-py3-none-any.whl.metadata (1.8 kB)\n",
      "  Downloading opentelemetry_exporter_prometheus-0.49b1-py3-none-any.whl.metadata (1.8 kB)\n",
      "INFO: This is taking longer than usual. You might need to provide the dependency resolver with stricter constraints to reduce runtime. See https://pip.pypa.io/warnings/backtracking for guidance. If you want to abort this run, press Ctrl + C.\n",
      "  Downloading opentelemetry_exporter_prometheus-0.49b0-py3-none-any.whl.metadata (1.8 kB)\n",
      "  Downloading opentelemetry_exporter_prometheus-0.48b0-py3-none-any.whl.metadata (1.8 kB)\n",
      "  Downloading opentelemetry_exporter_prometheus-0.47b0-py3-none-any.whl.metadata (1.8 kB)\n",
      "  Downloading opentelemetry_exporter_prometheus-0.46b0-py3-none-any.whl.metadata (1.8 kB)\n",
      "Requirement already satisfied: executing>=1.2.0 in /home/ryukijano/miniconda3/envs/quantum_qiskit/lib/python3.11/site-packages (from stack-data->ipython<9,>=8.10.0->qiskit-serverless~=0.25.0->qiskit-ibm-catalog) (2.0.1)\n",
      "Requirement already satisfied: asttokens>=2.1.0 in /home/ryukijano/miniconda3/envs/quantum_qiskit/lib/python3.11/site-packages (from stack-data->ipython<9,>=8.10.0->qiskit-serverless~=0.25.0->qiskit-ibm-catalog) (2.4.1)\n",
      "Requirement already satisfied: pure-eval in /home/ryukijano/miniconda3/envs/quantum_qiskit/lib/python3.11/site-packages (from stack-data->ipython<9,>=8.10.0->qiskit-serverless~=0.25.0->qiskit-ibm-catalog) (0.2.2)\n",
      "Requirement already satisfied: jmespath<2.0.0,>=0.7.1 in /home/ryukijano/miniconda3/envs/quantum_qiskit/lib/python3.11/site-packages (from botocore<1.34.107,>=1.34.70->aiobotocore<3.0.0,>=2.5.4->s3fs>=2023.6.0->qiskit-serverless~=0.25.0->qiskit-ibm-catalog) (1.0.1)\n",
      "Requirement already satisfied: cffi>=1.12 in /home/ryukijano/miniconda3/envs/quantum_qiskit/lib/python3.11/site-packages (from cryptography>=1.3->requests-ntlm>=1.1.0->qiskit-ibm-runtime<1,>=0.29.0->qiskit-serverless~=0.25.0->qiskit-ibm-catalog) (1.16.0)\n",
      "Requirement already satisfied: proto-plus<2.0.0dev,>=1.22.3 in /home/ryukijano/miniconda3/envs/quantum_qiskit/lib/python3.11/site-packages (from google-api-core<3.0.0,>=1.0.0->opencensus->ray[default]<3,>=2.30->qiskit-serverless~=0.25.0->qiskit-ibm-catalog) (1.23.0)\n",
      "Requirement already satisfied: google-auth<3.0.dev0,>=2.14.1 in /home/ryukijano/miniconda3/envs/quantum_qiskit/lib/python3.11/site-packages (from google-api-core<3.0.0,>=1.0.0->opencensus->ray[default]<3,>=2.30->qiskit-serverless~=0.25.0->qiskit-ibm-catalog) (2.30.0)\n",
      "Collecting requests<3,>=2.32.2 (from qiskit-serverless~=0.25.0->qiskit-ibm-catalog)\n",
      "  Downloading requests-2.32.2-py3-none-any.whl.metadata (4.6 kB)\n",
      "Requirement already satisfied: PyJWT<3.0.0,>=2.8.0 in /home/ryukijano/miniconda3/envs/quantum_qiskit/lib/python3.11/site-packages (from ibm-cloud-sdk-core<4.0.0,>=3.19.2->ibm-platform-services>=0.22.6->qiskit-ibm-runtime<1,>=0.29.0->qiskit-serverless~=0.25.0->qiskit-ibm-catalog) (2.10.1)\n",
      "Requirement already satisfied: pycparser in /home/ryukijano/miniconda3/envs/quantum_qiskit/lib/python3.11/site-packages (from cffi>=1.12->cryptography>=1.3->requests-ntlm>=1.1.0->qiskit-ibm-runtime<1,>=0.29.0->qiskit-serverless~=0.25.0->qiskit-ibm-catalog) (2.22)\n",
      "Requirement already satisfied: cachetools<6.0,>=2.0.0 in /home/ryukijano/miniconda3/envs/quantum_qiskit/lib/python3.11/site-packages (from google-auth<3.0.dev0,>=2.14.1->google-api-core<3.0.0,>=1.0.0->opencensus->ray[default]<3,>=2.30->qiskit-serverless~=0.25.0->qiskit-ibm-catalog) (5.3.3)\n",
      "Requirement already satisfied: pyasn1-modules>=0.2.1 in /home/ryukijano/miniconda3/envs/quantum_qiskit/lib/python3.11/site-packages (from google-auth<3.0.dev0,>=2.14.1->google-api-core<3.0.0,>=1.0.0->opencensus->ray[default]<3,>=2.30->qiskit-serverless~=0.25.0->qiskit-ibm-catalog) (0.4.0)\n",
      "Requirement already satisfied: rsa<5,>=3.1.4 in /home/ryukijano/miniconda3/envs/quantum_qiskit/lib/python3.11/site-packages (from google-auth<3.0.dev0,>=2.14.1->google-api-core<3.0.0,>=1.0.0->opencensus->ray[default]<3,>=2.30->qiskit-serverless~=0.25.0->qiskit-ibm-catalog) (4.9)\n",
      "Requirement already satisfied: pyasn1<0.7.0,>=0.4.6 in /home/ryukijano/miniconda3/envs/quantum_qiskit/lib/python3.11/site-packages (from pyasn1-modules>=0.2.1->google-auth<3.0.dev0,>=2.14.1->google-api-core<3.0.0,>=1.0.0->opencensus->ray[default]<3,>=2.30->qiskit-serverless~=0.25.0->qiskit-ibm-catalog) (0.6.0)\n",
      "Downloading qiskit_ibm_catalog-0.9.0-py3-none-any.whl (19 kB)\n",
      "Downloading qiskit_serverless-0.25.1-py3-none-any.whl (56 kB)\n",
      "\u001b[2K   \u001b[90m━━━━━━━━━━━━━━━━━━━━━━━━━━━━━━━━━━━━━━━━\u001b[0m \u001b[32m56.7/56.7 kB\u001b[0m \u001b[31m1.3 MB/s\u001b[0m eta \u001b[36m0:00:00\u001b[0m-:--:--\u001b[0m\n",
      "\u001b[?25hDownloading certifi-2024.7.4-py3-none-any.whl (162 kB)\n",
      "\u001b[2K   \u001b[90m━━━━━━━━━━━━━━━━━━━━━━━━━━━━━━━━━━━━━━━━\u001b[0m \u001b[32m163.0/163.0 kB\u001b[0m \u001b[31m1.2 MB/s\u001b[0m eta \u001b[36m0:00:00\u001b[0mta \u001b[36m0:00:01\u001b[0m\n",
      "\u001b[?25hDownloading zipp-3.19.1-py3-none-any.whl (9.0 kB)\n",
      "Downloading aiohttp-3.12.14-cp311-cp311-manylinux_2_17_x86_64.manylinux2014_x86_64.whl (1.7 MB)\n",
      "\u001b[2K   \u001b[90m━━━━━━━━━━━━━━━━━━━━━━━━━━━━━━━━━━━━━━━━\u001b[0m \u001b[32m1.7/1.7 MB\u001b[0m \u001b[31m2.0 MB/s\u001b[0m eta \u001b[36m0:00:00\u001b[0m00:01\u001b[0m00:01\u001b[0m0m\n",
      "\u001b[?25hDownloading ipywidgets-8.1.7-py3-none-any.whl (139 kB)\n",
      "\u001b[2K   \u001b[90m━━━━━━━━━━━━━━━━━━━━━━━━━━━━━━━━━━━━━━━━\u001b[0m \u001b[32m139.8/139.8 kB\u001b[0m \u001b[31m3.2 MB/s\u001b[0m eta \u001b[36m0:00:00\u001b[0mta \u001b[36m0:00:01\u001b[0m\n",
      "\u001b[?25hDownloading qiskit_ibm_runtime-0.40.1-py3-none-any.whl (3.2 MB)\n",
      "\u001b[2K   \u001b[90m━━━━━━━━━━━━━━━━━━━━━━━━━━━━━━━━━━━━━━━━\u001b[0m \u001b[32m3.2/3.2 MB\u001b[0m \u001b[31m14.0 MB/s\u001b[0m eta \u001b[36m0:00:00\u001b[0ma \u001b[36m0:00:01\u001b[0m\n",
      "\u001b[?25hDownloading qiskit-2.1.1-cp39-abi3-manylinux_2_17_x86_64.manylinux2014_x86_64.whl (7.5 MB)\n",
      "\u001b[2K   \u001b[90m━━━━━━━━━━━━━━━━━━━━━━━━━━━━━━━━━━━━━━━━\u001b[0m \u001b[32m7.5/7.5 MB\u001b[0m \u001b[31m18.1 MB/s\u001b[0m eta \u001b[36m0:00:00\u001b[0ma \u001b[36m0:00:01\u001b[0m\n",
      "\u001b[?25hDownloading ray-2.47.1-cp311-cp311-manylinux2014_x86_64.whl (68.9 MB)\n",
      "\u001b[2K   \u001b[90m━━━━━━━━━━━━━━━━━━━━━━━━━━━━━━━━━━━━━━━━\u001b[0m \u001b[32m68.9/68.9 MB\u001b[0m \u001b[31m26.6 MB/s\u001b[0m eta \u001b[36m0:00:00\u001b[0m00:01\u001b[0m00:01\u001b[0m\n",
      "\u001b[?25hDownloading aiohappyeyeballs-2.6.1-py3-none-any.whl (15 kB)\n",
      "Downloading aiosignal-1.4.0-py3-none-any.whl (7.5 kB)\n",
      "Downloading jupyterlab_widgets-3.0.15-py3-none-any.whl (216 kB)\n",
      "\u001b[2K   \u001b[90m━━━━━━━━━━━━━━━━━━━━━━━━━━━━━━━━━━━━━━━━\u001b[0m \u001b[32m216.6/216.6 kB\u001b[0m \u001b[31m63.1 MB/s\u001b[0m eta \u001b[36m0:00:00\u001b[0m\n",
      "\u001b[?25hDownloading propcache-0.3.2-cp311-cp311-manylinux_2_17_x86_64.manylinux2014_x86_64.whl (213 kB)\n",
      "\u001b[2K   \u001b[90m━━━━━━━━━━━━━━━━━━━━━━━━━━━━━━━━━━━━━━━━\u001b[0m \u001b[32m213.5/213.5 kB\u001b[0m \u001b[31m60.7 MB/s\u001b[0m eta \u001b[36m0:00:00\u001b[0m\n",
      "\u001b[?25hDownloading widgetsnbextension-4.0.14-py3-none-any.whl (2.2 MB)\n",
      "\u001b[2K   \u001b[90m━━━━━━━━━━━━━━━━━━━━━━━━━━━━━━━━━━━━━━━━\u001b[0m \u001b[32m2.2/2.2 MB\u001b[0m \u001b[31m30.5 MB/s\u001b[0m eta \u001b[36m0:00:00\u001b[0m00:01\u001b[0m00:01\u001b[0m\n",
      "\u001b[?25hDownloading yarl-1.20.1-cp311-cp311-manylinux_2_17_x86_64.manylinux2014_x86_64.whl (348 kB)\n",
      "\u001b[2K   \u001b[90m━━━━━━━━━━━━━━━━━━━━━━━━━━━━━━━━━━━━━━━━\u001b[0m \u001b[32m349.0/349.0 kB\u001b[0m \u001b[31m24.4 MB/s\u001b[0m eta \u001b[36m0:00:00\u001b[0m\n",
      "\u001b[?25hDownloading opentelemetry_exporter_prometheus-0.46b0-py3-none-any.whl (12 kB)\n",
      "Downloading requests-2.32.2-py3-none-any.whl (63 kB)\n",
      "\u001b[2K   \u001b[90m━━━━━━━━━━━━━━━━━━━━━━━━━━━━━━━━━━━━━━━━\u001b[0m \u001b[32m63.9/63.9 kB\u001b[0m \u001b[31m134.2 MB/s\u001b[0m eta \u001b[36m0:00:00\u001b[0m\n",
      "\u001b[?25hInstalling collected packages: zipp, widgetsnbextension, propcache, jupyterlab_widgets, certifi, aiosignal, aiohappyeyeballs, yarl, requests, qiskit, aiohttp, ray, ipywidgets, qiskit-ibm-runtime, opentelemetry-exporter-prometheus, qiskit-serverless, qiskit-ibm-catalog\n",
      "  Attempting uninstall: zipp\n",
      "    Found existing installation: zipp 3.17.0\n",
      "    Uninstalling zipp-3.17.0:\n",
      "      Successfully uninstalled zipp-3.17.0\n",
      "  Attempting uninstall: widgetsnbextension\n",
      "    Found existing installation: widgetsnbextension 4.0.11\n",
      "    Uninstalling widgetsnbextension-4.0.11:\n",
      "      Successfully uninstalled widgetsnbextension-4.0.11\n",
      "  Attempting uninstall: jupyterlab_widgets\n",
      "    Found existing installation: jupyterlab_widgets 3.0.11\n",
      "    Uninstalling jupyterlab_widgets-3.0.11:\n",
      "      Successfully uninstalled jupyterlab_widgets-3.0.11\n",
      "  Attempting uninstall: certifi\n",
      "    Found existing installation: certifi 2024.6.2\n",
      "    Uninstalling certifi-2024.6.2:\n",
      "      Successfully uninstalled certifi-2024.6.2\n",
      "  Attempting uninstall: aiosignal\n",
      "    Found existing installation: aiosignal 1.3.1\n",
      "    Uninstalling aiosignal-1.3.1:\n",
      "      Successfully uninstalled aiosignal-1.3.1\n",
      "  Attempting uninstall: yarl\n",
      "    Found existing installation: yarl 1.9.4\n",
      "    Uninstalling yarl-1.9.4:\n",
      "      Successfully uninstalled yarl-1.9.4\n",
      "  Attempting uninstall: requests\n",
      "    Found existing installation: requests 2.32.4\n",
      "    Uninstalling requests-2.32.4:\n",
      "      Successfully uninstalled requests-2.32.4\n",
      "  Attempting uninstall: qiskit\n",
      "    Found existing installation: qiskit 1.4.0\n",
      "    Uninstalling qiskit-1.4.0:\n",
      "      Successfully uninstalled qiskit-1.4.0\n",
      "  Attempting uninstall: aiohttp\n",
      "    Found existing installation: aiohttp 3.9.5\n",
      "    Uninstalling aiohttp-3.9.5:\n",
      "      Successfully uninstalled aiohttp-3.9.5\n",
      "  Attempting uninstall: ray\n",
      "    Found existing installation: ray 2.24.0\n",
      "    Uninstalling ray-2.24.0:\n",
      "      Successfully uninstalled ray-2.24.0\n",
      "  Attempting uninstall: ipywidgets\n",
      "    Found existing installation: ipywidgets 8.1.3\n",
      "    Uninstalling ipywidgets-8.1.3:\n",
      "      Successfully uninstalled ipywidgets-8.1.3\n",
      "  Attempting uninstall: qiskit-ibm-runtime\n",
      "    Found existing installation: qiskit-ibm-runtime 0.23.0\n",
      "    Uninstalling qiskit-ibm-runtime-0.23.0:\n",
      "      Successfully uninstalled qiskit-ibm-runtime-0.23.0\n",
      "  Attempting uninstall: qiskit-serverless\n",
      "    Found existing installation: qiskit-serverless 0.12.0\n",
      "    Uninstalling qiskit-serverless-0.12.0:\n",
      "      Successfully uninstalled qiskit-serverless-0.12.0\n",
      "\u001b[31mERROR: pip's dependency resolver does not currently take into account all the packages that are installed. This behaviour is the source of the following dependency conflicts.\n",
      "qiskit-transpiler-service 0.4.3 requires qiskit~=1.0, but you have qiskit 2.1.1 which is incompatible.\n",
      "qctrl-workflow-client 6.0.0 requires requests<3.0.0,>=2.32.4, but you have requests 2.32.2 which is incompatible.\n",
      "circuit-knitting-toolbox 0.7.2 requires qiskit<2.0,>=1.0.0, but you have qiskit 2.1.1 which is incompatible.\u001b[0m\u001b[31m\n",
      "\u001b[0mSuccessfully installed aiohappyeyeballs-2.6.1 aiohttp-3.12.14 aiosignal-1.4.0 certifi-2024.7.4 ipywidgets-8.1.7 jupyterlab_widgets-3.0.15 opentelemetry-exporter-prometheus-0.46b0 propcache-0.3.2 qiskit-2.1.1 qiskit-ibm-catalog-0.9.0 qiskit-ibm-runtime-0.40.1 qiskit-serverless-0.25.1 ray-2.47.1 requests-2.32.2 widgetsnbextension-4.0.14 yarl-1.20.1 zipp-3.19.1\n"
     ]
    }
   ],
   "source": [
    "!pip install qiskit-ibm-catalog"
   ]
  },
  {
   "cell_type": "code",
   "execution_count": 6,
   "id": "909f7801",
   "metadata": {},
   "outputs": [],
   "source": [
    "from qiskit_ibm_catalog import QiskitFunctionsCatalog\n"
   ]
  },
  {
   "cell_type": "code",
   "execution_count": null,
   "id": "f133befc",
   "metadata": {},
   "outputs": [
    {
     "ename": "QiskitServerlessException",
     "evalue": "Credentials couldn't be verified.",
     "output_type": "error",
     "traceback": [
      "\u001b[0;31m---------------------------------------------------------------------------\u001b[0m",
      "\u001b[0;31mQiskitServerlessException\u001b[0m                 Traceback (most recent call last)",
      "File \u001b[0;32m~/miniconda3/envs/quantum_qiskit/lib/python3.11/site-packages/qiskit_serverless/core/clients/serverless_client.py:165\u001b[0m, in \u001b[0;36mServerlessClient._verify_credentials\u001b[0;34m(self)\u001b[0m\n\u001b[1;32m    164\u001b[0m \u001b[38;5;28;01mtry\u001b[39;00m:\n\u001b[0;32m--> 165\u001b[0m     \u001b[43msafe_json_request\u001b[49m\u001b[43m(\u001b[49m\n\u001b[1;32m    166\u001b[0m \u001b[43m        \u001b[49m\u001b[43mrequest\u001b[49m\u001b[38;5;241;43m=\u001b[39;49m\u001b[38;5;28;43;01mlambda\u001b[39;49;00m\u001b[43m:\u001b[49m\u001b[43m \u001b[49m\u001b[43mrequests\u001b[49m\u001b[38;5;241;43m.\u001b[39;49m\u001b[43mget\u001b[49m\u001b[43m(\u001b[49m\n\u001b[1;32m    167\u001b[0m \u001b[43m            \u001b[49m\u001b[43murl\u001b[49m\u001b[38;5;241;43m=\u001b[39;49m\u001b[38;5;124;43mf\u001b[39;49m\u001b[38;5;124;43m\"\u001b[39;49m\u001b[38;5;132;43;01m{\u001b[39;49;00m\u001b[38;5;28;43mself\u001b[39;49m\u001b[38;5;241;43m.\u001b[39;49m\u001b[43mhost\u001b[49m\u001b[38;5;132;43;01m}\u001b[39;49;00m\u001b[38;5;124;43m/api/v1/programs/\u001b[39;49m\u001b[38;5;124;43m\"\u001b[39;49m\u001b[43m,\u001b[49m\n\u001b[1;32m    168\u001b[0m \u001b[43m            \u001b[49m\u001b[43mheaders\u001b[49m\u001b[38;5;241;43m=\u001b[39;49m\u001b[43mget_headers\u001b[49m\u001b[43m(\u001b[49m\n\u001b[1;32m    169\u001b[0m \u001b[43m                \u001b[49m\u001b[43mtoken\u001b[49m\u001b[38;5;241;43m=\u001b[39;49m\u001b[38;5;28;43mself\u001b[39;49m\u001b[38;5;241;43m.\u001b[39;49m\u001b[43mtoken\u001b[49m\u001b[43m,\u001b[49m\u001b[43m \u001b[49m\u001b[43minstance\u001b[49m\u001b[38;5;241;43m=\u001b[39;49m\u001b[38;5;28;43mself\u001b[39;49m\u001b[38;5;241;43m.\u001b[39;49m\u001b[43minstance\u001b[49m\u001b[43m,\u001b[49m\u001b[43m \u001b[49m\u001b[43mchannel\u001b[49m\u001b[38;5;241;43m=\u001b[39;49m\u001b[38;5;28;43mself\u001b[39;49m\u001b[38;5;241;43m.\u001b[39;49m\u001b[43mchannel\u001b[49m\n\u001b[1;32m    170\u001b[0m \u001b[43m            \u001b[49m\u001b[43m)\u001b[49m\u001b[43m,\u001b[49m\n\u001b[1;32m    171\u001b[0m \u001b[43m            \u001b[49m\u001b[43mtimeout\u001b[49m\u001b[38;5;241;43m=\u001b[39;49m\u001b[43mREQUESTS_TIMEOUT\u001b[49m\u001b[43m,\u001b[49m\n\u001b[1;32m    172\u001b[0m \u001b[43m        \u001b[49m\u001b[43m)\u001b[49m\n\u001b[1;32m    173\u001b[0m \u001b[43m    \u001b[49m\u001b[43m)\u001b[49m\n\u001b[1;32m    174\u001b[0m \u001b[38;5;28;01mexcept\u001b[39;00m QiskitServerlessException \u001b[38;5;28;01mas\u001b[39;00m reason:\n",
      "File \u001b[0;32m~/miniconda3/envs/quantum_qiskit/lib/python3.11/site-packages/qiskit_serverless/utils/json.py:143\u001b[0m, in \u001b[0;36msafe_json_request\u001b[0;34m(request)\u001b[0m\n\u001b[1;32m    142\u001b[0m \u001b[38;5;28;01mif\u001b[39;00m response \u001b[38;5;129;01mis\u001b[39;00m \u001b[38;5;129;01mnot\u001b[39;00m \u001b[38;5;28;01mNone\u001b[39;00m \u001b[38;5;129;01mand\u001b[39;00m \u001b[38;5;129;01mnot\u001b[39;00m response\u001b[38;5;241m.\u001b[39mok:\n\u001b[0;32m--> 143\u001b[0m     \u001b[38;5;28;01mraise\u001b[39;00m QiskitServerlessException(\n\u001b[1;32m    144\u001b[0m         format_err_msg(\n\u001b[1;32m    145\u001b[0m             response\u001b[38;5;241m.\u001b[39mstatus_code,\n\u001b[1;32m    146\u001b[0m             \u001b[38;5;28mstr\u001b[39m(response\u001b[38;5;241m.\u001b[39mtext),\n\u001b[1;32m    147\u001b[0m         )\n\u001b[1;32m    148\u001b[0m     )\n\u001b[1;32m    150\u001b[0m decoding_error_message: Optional[\u001b[38;5;28mstr\u001b[39m] \u001b[38;5;241m=\u001b[39m \u001b[38;5;28;01mNone\u001b[39;00m\n",
      "\u001b[0;31mQiskitServerlessException\u001b[0m: \n| Message: Http bad request.\n| Code: 401\n| Details:\n|   - detail: T",
      "\nThe above exception was the direct cause of the following exception:\n",
      "\u001b[0;31mQiskitServerlessException\u001b[0m                 Traceback (most recent call last)",
      "Cell \u001b[0;32mIn[8], line 4\u001b[0m\n\u001b[1;32m      2\u001b[0m your_crn \u001b[38;5;241m=\u001b[39m \u001b[38;5;124m\"\u001b[39m\u001b[38;5;124mv1:bluemix:public:quantum-computing:us-east:a/d4f95db0515b47b7ba61dba8a424f873:e27020ce-4df5-4d23-a715-188a850e36c9::\u001b[39m\u001b[38;5;124m\"\u001b[39m\n\u001b[1;32m      3\u001b[0m \u001b[38;5;28;01mfrom\u001b[39;00m \u001b[38;5;21;01mqiskit_ibm_runtime\u001b[39;00m \u001b[38;5;28;01mimport\u001b[39;00m QiskitRuntimeService\n\u001b[0;32m----> 4\u001b[0m \u001b[43mQiskitFunctionsCatalog\u001b[49m\u001b[43m(\u001b[49m\n\u001b[1;32m      5\u001b[0m \u001b[43m    \u001b[49m\u001b[43mchannel\u001b[49m\u001b[38;5;241;43m=\u001b[39;49m\u001b[38;5;124;43m\"\u001b[39;49m\u001b[38;5;124;43mibm_cloud\u001b[39;49m\u001b[38;5;124;43m\"\u001b[39;49m\u001b[43m,\u001b[49m\n\u001b[1;32m      6\u001b[0m \u001b[43m    \u001b[49m\u001b[43mtoken\u001b[49m\u001b[38;5;241;43m=\u001b[39;49m\u001b[43myour_api_key\u001b[49m\u001b[43m,\u001b[49m\n\u001b[1;32m      7\u001b[0m \u001b[43m    \u001b[49m\u001b[43minstance\u001b[49m\u001b[38;5;241;43m=\u001b[39;49m\u001b[43myour_crn\u001b[49m\n\u001b[1;32m      8\u001b[0m \u001b[43m)\u001b[49m\n",
      "File \u001b[0;32m~/miniconda3/envs/quantum_qiskit/lib/python3.11/site-packages/qiskit_ibm_catalog/catalog.py:78\u001b[0m, in \u001b[0;36mQiskitFunctionsCatalog.__init__\u001b[0;34m(self, token, channel, instance, name)\u001b[0m\n\u001b[1;32m     56\u001b[0m \u001b[38;5;28;01mdef\u001b[39;00m \u001b[38;5;21m__init__\u001b[39m(\n\u001b[1;32m     57\u001b[0m     \u001b[38;5;28mself\u001b[39m,\n\u001b[1;32m     58\u001b[0m     token: Optional[\u001b[38;5;28mstr\u001b[39m] \u001b[38;5;241m=\u001b[39m \u001b[38;5;28;01mNone\u001b[39;00m,\n\u001b[0;32m   (...)\u001b[0m\n\u001b[1;32m     61\u001b[0m     name: Optional[\u001b[38;5;28mstr\u001b[39m] \u001b[38;5;241m=\u001b[39m \u001b[38;5;28;01mNone\u001b[39;00m,\n\u001b[1;32m     62\u001b[0m ) \u001b[38;5;241m-\u001b[39m\u001b[38;5;241m>\u001b[39m \u001b[38;5;28;01mNone\u001b[39;00m:\n\u001b[1;32m     63\u001b[0m \u001b[38;5;250m    \u001b[39m\u001b[38;5;124;03m\"\"\"\u001b[39;00m\n\u001b[1;32m     64\u001b[0m \u001b[38;5;124;03m    Initialize qiskit functions catalog.\u001b[39;00m\n\u001b[1;32m     65\u001b[0m \n\u001b[0;32m   (...)\u001b[0m\n\u001b[1;32m     76\u001b[0m \u001b[38;5;124;03m        name: Name of the account to load\u001b[39;00m\n\u001b[1;32m     77\u001b[0m \u001b[38;5;124;03m    \"\"\"\u001b[39;00m\n\u001b[0;32m---> 78\u001b[0m     \u001b[38;5;28mself\u001b[39m\u001b[38;5;241m.\u001b[39m_client \u001b[38;5;241m=\u001b[39m \u001b[43mIBMServerlessClient\u001b[49m\u001b[43m(\u001b[49m\n\u001b[1;32m     79\u001b[0m \u001b[43m        \u001b[49m\u001b[43mchannel\u001b[49m\u001b[38;5;241;43m=\u001b[39;49m\u001b[43mchannel\u001b[49m\u001b[43m,\u001b[49m\u001b[43m \u001b[49m\u001b[43mtoken\u001b[49m\u001b[38;5;241;43m=\u001b[39;49m\u001b[43mtoken\u001b[49m\u001b[43m,\u001b[49m\u001b[43m \u001b[49m\u001b[43minstance\u001b[49m\u001b[38;5;241;43m=\u001b[39;49m\u001b[43minstance\u001b[49m\u001b[43m,\u001b[49m\u001b[43m \u001b[49m\u001b[43mname\u001b[49m\u001b[38;5;241;43m=\u001b[39;49m\u001b[43mname\u001b[49m\n\u001b[1;32m     80\u001b[0m \u001b[43m    \u001b[49m\u001b[43m)\u001b[49m\n",
      "File \u001b[0;32m~/miniconda3/envs/quantum_qiskit/lib/python3.11/site-packages/qiskit_serverless/core/clients/serverless_client.py:608\u001b[0m, in \u001b[0;36mIBMServerlessClient.__init__\u001b[0;34m(self, token, name, instance, channel)\u001b[0m\n\u001b[1;32m    582\u001b[0m \u001b[38;5;250m\u001b[39m\u001b[38;5;124;03m\"\"\"\u001b[39;00m\n\u001b[1;32m    583\u001b[0m \u001b[38;5;124;03mInitialize a client with access to an IBMQ-provided remote cluster.\u001b[39;00m\n\u001b[1;32m    584\u001b[0m \n\u001b[0;32m   (...)\u001b[0m\n\u001b[1;32m    599\u001b[0m \u001b[38;5;124;03m    channel: identifies the method to use to authenticate the user\u001b[39;00m\n\u001b[1;32m    600\u001b[0m \u001b[38;5;124;03m\"\"\"\u001b[39;00m\n\u001b[1;32m    601\u001b[0m \u001b[38;5;28mself\u001b[39m\u001b[38;5;241m.\u001b[39maccount \u001b[38;5;241m=\u001b[39m \u001b[38;5;28mself\u001b[39m\u001b[38;5;241m.\u001b[39m_discover_account(\n\u001b[1;32m    602\u001b[0m     token\u001b[38;5;241m=\u001b[39mtoken,\n\u001b[1;32m    603\u001b[0m     instance\u001b[38;5;241m=\u001b[39minstance,\n\u001b[1;32m    604\u001b[0m     channel\u001b[38;5;241m=\u001b[39mchannel,\n\u001b[1;32m    605\u001b[0m     name\u001b[38;5;241m=\u001b[39mname,\n\u001b[1;32m    606\u001b[0m )\n\u001b[0;32m--> 608\u001b[0m \u001b[38;5;28;43msuper\u001b[39;49m\u001b[43m(\u001b[49m\u001b[43m)\u001b[49m\u001b[38;5;241;43m.\u001b[39;49m\u001b[38;5;21;43m__init__\u001b[39;49m\u001b[43m(\u001b[49m\n\u001b[1;32m    609\u001b[0m \u001b[43m    \u001b[49m\u001b[43mchannel\u001b[49m\u001b[38;5;241;43m=\u001b[39;49m\u001b[38;5;28;43mself\u001b[39;49m\u001b[38;5;241;43m.\u001b[39;49m\u001b[43maccount\u001b[49m\u001b[38;5;241;43m.\u001b[39;49m\u001b[43mchannel\u001b[49m\u001b[43m,\u001b[49m\n\u001b[1;32m    610\u001b[0m \u001b[43m    \u001b[49m\u001b[43mtoken\u001b[49m\u001b[38;5;241;43m=\u001b[39;49m\u001b[38;5;28;43mself\u001b[39;49m\u001b[38;5;241;43m.\u001b[39;49m\u001b[43maccount\u001b[49m\u001b[38;5;241;43m.\u001b[39;49m\u001b[43mtoken\u001b[49m\u001b[43m,\u001b[49m\n\u001b[1;32m    611\u001b[0m \u001b[43m    \u001b[49m\u001b[43minstance\u001b[49m\u001b[38;5;241;43m=\u001b[39;49m\u001b[38;5;28;43mself\u001b[39;49m\u001b[38;5;241;43m.\u001b[39;49m\u001b[43maccount\u001b[49m\u001b[38;5;241;43m.\u001b[39;49m\u001b[43minstance\u001b[49m\u001b[43m,\u001b[49m\n\u001b[1;32m    612\u001b[0m \u001b[43m    \u001b[49m\u001b[43mhost\u001b[49m\u001b[38;5;241;43m=\u001b[39;49m\u001b[43mIBM_SERVERLESS_HOST_URL\u001b[49m\u001b[43m,\u001b[49m\n\u001b[1;32m    613\u001b[0m \u001b[43m\u001b[49m\u001b[43m)\u001b[49m\n",
      "File \u001b[0;32m~/miniconda3/envs/quantum_qiskit/lib/python3.11/site-packages/qiskit_serverless/core/clients/serverless_client.py:152\u001b[0m, in \u001b[0;36mServerlessClient.__init__\u001b[0;34m(self, name, host, version, token, instance, channel)\u001b[0m\n\u001b[1;32m    150\u001b[0m \u001b[38;5;28msuper\u001b[39m()\u001b[38;5;241m.\u001b[39m\u001b[38;5;21m__init__\u001b[39m(name, host, token, instance, channel)\n\u001b[1;32m    151\u001b[0m \u001b[38;5;28mself\u001b[39m\u001b[38;5;241m.\u001b[39mversion \u001b[38;5;241m=\u001b[39m version\n\u001b[0;32m--> 152\u001b[0m \u001b[38;5;28;43mself\u001b[39;49m\u001b[38;5;241;43m.\u001b[39;49m\u001b[43m_verify_credentials\u001b[49m\u001b[43m(\u001b[49m\u001b[43m)\u001b[49m\n\u001b[1;32m    154\u001b[0m \u001b[38;5;28mself\u001b[39m\u001b[38;5;241m.\u001b[39m_files_client \u001b[38;5;241m=\u001b[39m GatewayFilesClient(\n\u001b[1;32m    155\u001b[0m     \u001b[38;5;28mself\u001b[39m\u001b[38;5;241m.\u001b[39mhost, \u001b[38;5;28mself\u001b[39m\u001b[38;5;241m.\u001b[39mtoken, \u001b[38;5;28mself\u001b[39m\u001b[38;5;241m.\u001b[39mversion, \u001b[38;5;28mself\u001b[39m\u001b[38;5;241m.\u001b[39minstance, \u001b[38;5;28mself\u001b[39m\u001b[38;5;241m.\u001b[39mchannel\n\u001b[1;32m    156\u001b[0m )\n",
      "File \u001b[0;32m~/miniconda3/envs/quantum_qiskit/lib/python3.11/site-packages/qiskit_serverless/core/clients/serverless_client.py:175\u001b[0m, in \u001b[0;36mServerlessClient._verify_credentials\u001b[0;34m(self)\u001b[0m\n\u001b[1;32m    165\u001b[0m     safe_json_request(\n\u001b[1;32m    166\u001b[0m         request\u001b[38;5;241m=\u001b[39m\u001b[38;5;28;01mlambda\u001b[39;00m: requests\u001b[38;5;241m.\u001b[39mget(\n\u001b[1;32m    167\u001b[0m             url\u001b[38;5;241m=\u001b[39m\u001b[38;5;124mf\u001b[39m\u001b[38;5;124m\"\u001b[39m\u001b[38;5;132;01m{\u001b[39;00m\u001b[38;5;28mself\u001b[39m\u001b[38;5;241m.\u001b[39mhost\u001b[38;5;132;01m}\u001b[39;00m\u001b[38;5;124m/api/v1/programs/\u001b[39m\u001b[38;5;124m\"\u001b[39m,\n\u001b[0;32m   (...)\u001b[0m\n\u001b[1;32m    172\u001b[0m         )\n\u001b[1;32m    173\u001b[0m     )\n\u001b[1;32m    174\u001b[0m \u001b[38;5;28;01mexcept\u001b[39;00m QiskitServerlessException \u001b[38;5;28;01mas\u001b[39;00m reason:\n\u001b[0;32m--> 175\u001b[0m     \u001b[38;5;28;01mraise\u001b[39;00m QiskitServerlessException(\n\u001b[1;32m    176\u001b[0m         \u001b[38;5;124m\"\u001b[39m\u001b[38;5;124mCredentials couldn\u001b[39m\u001b[38;5;124m'\u001b[39m\u001b[38;5;124mt be verified.\u001b[39m\u001b[38;5;124m\"\u001b[39m\n\u001b[1;32m    177\u001b[0m     ) \u001b[38;5;28;01mfrom\u001b[39;00m \u001b[38;5;21;01mreason\u001b[39;00m\n",
      "\u001b[0;31mQiskitServerlessException\u001b[0m: Credentials couldn't be verified."
     ]
    }
   ],
   "source": [
    "your_api_key = \"9cqvrnwt3I8aiSw-FPxC0PvWBcYWIrE-90eps7BUyLbb\"\n",
    "your_crn = \"crn:v1:bluemix:public:quantum-computing:us-east:a/d4f95db0515b47b7ba61dba8a424f873:e27020ce-4df5-4d23-a715-188a850e36c9::\"\n",
    "from qiskit_ibm_runtime import QiskitRuntimeService\n",
    "QiskitRuntimeService.save_account(\n",
    "    channel=\"ibm_quantum_platform\",\n",
    "    token=your_api_key,\n",
    "    instance=your_crn,\n",
    "    overwrite=True\n",
    ")"
   ]
  },
  {
   "cell_type": "code",
   "execution_count": null,
   "id": "d00b02c3",
   "metadata": {},
   "outputs": [],
   "source": []
  },
  {
   "cell_type": "code",
   "execution_count": 13,
   "id": "1a53d41b",
   "metadata": {},
   "outputs": [],
   "source": [
    "from qiskit_ibm_catalog import QiskitFunctionsCatalog\n",
    "# QiskitFunctionsCatalog.save_account(token=\"9cqvrnwt3I8aiSw-FPxC0PvWBcYWIrE-90eps7BUyLbb\", overwrite=True)"
   ]
  },
  {
   "cell_type": "code",
   "execution_count": null,
   "id": "c9b9fd72",
   "metadata": {},
   "outputs": [],
   "source": []
  },
  {
   "cell_type": "code",
   "execution_count": 14,
   "id": "d01e596b",
   "metadata": {},
   "outputs": [
    {
     "ename": "QiskitServerlessException",
     "evalue": "Credentials couldn't be verified.",
     "output_type": "error",
     "traceback": [
      "\u001b[0;31m---------------------------------------------------------------------------\u001b[0m",
      "\u001b[0;31mQiskitServerlessException\u001b[0m                 Traceback (most recent call last)",
      "File \u001b[0;32m~/miniconda3/envs/quantum_qiskit/lib/python3.11/site-packages/qiskit_serverless/core/clients/serverless_client.py:165\u001b[0m, in \u001b[0;36mServerlessClient._verify_credentials\u001b[0;34m(self)\u001b[0m\n\u001b[1;32m    164\u001b[0m \u001b[38;5;28;01mtry\u001b[39;00m:\n\u001b[0;32m--> 165\u001b[0m     \u001b[43msafe_json_request\u001b[49m\u001b[43m(\u001b[49m\n\u001b[1;32m    166\u001b[0m \u001b[43m        \u001b[49m\u001b[43mrequest\u001b[49m\u001b[38;5;241;43m=\u001b[39;49m\u001b[38;5;28;43;01mlambda\u001b[39;49;00m\u001b[43m:\u001b[49m\u001b[43m \u001b[49m\u001b[43mrequests\u001b[49m\u001b[38;5;241;43m.\u001b[39;49m\u001b[43mget\u001b[49m\u001b[43m(\u001b[49m\n\u001b[1;32m    167\u001b[0m \u001b[43m            \u001b[49m\u001b[43murl\u001b[49m\u001b[38;5;241;43m=\u001b[39;49m\u001b[38;5;124;43mf\u001b[39;49m\u001b[38;5;124;43m\"\u001b[39;49m\u001b[38;5;132;43;01m{\u001b[39;49;00m\u001b[38;5;28;43mself\u001b[39;49m\u001b[38;5;241;43m.\u001b[39;49m\u001b[43mhost\u001b[49m\u001b[38;5;132;43;01m}\u001b[39;49;00m\u001b[38;5;124;43m/api/v1/programs/\u001b[39;49m\u001b[38;5;124;43m\"\u001b[39;49m\u001b[43m,\u001b[49m\n\u001b[1;32m    168\u001b[0m \u001b[43m            \u001b[49m\u001b[43mheaders\u001b[49m\u001b[38;5;241;43m=\u001b[39;49m\u001b[43mget_headers\u001b[49m\u001b[43m(\u001b[49m\n\u001b[1;32m    169\u001b[0m \u001b[43m                \u001b[49m\u001b[43mtoken\u001b[49m\u001b[38;5;241;43m=\u001b[39;49m\u001b[38;5;28;43mself\u001b[39;49m\u001b[38;5;241;43m.\u001b[39;49m\u001b[43mtoken\u001b[49m\u001b[43m,\u001b[49m\u001b[43m \u001b[49m\u001b[43minstance\u001b[49m\u001b[38;5;241;43m=\u001b[39;49m\u001b[38;5;28;43mself\u001b[39;49m\u001b[38;5;241;43m.\u001b[39;49m\u001b[43minstance\u001b[49m\u001b[43m,\u001b[49m\u001b[43m \u001b[49m\u001b[43mchannel\u001b[49m\u001b[38;5;241;43m=\u001b[39;49m\u001b[38;5;28;43mself\u001b[39;49m\u001b[38;5;241;43m.\u001b[39;49m\u001b[43mchannel\u001b[49m\n\u001b[1;32m    170\u001b[0m \u001b[43m            \u001b[49m\u001b[43m)\u001b[49m\u001b[43m,\u001b[49m\n\u001b[1;32m    171\u001b[0m \u001b[43m            \u001b[49m\u001b[43mtimeout\u001b[49m\u001b[38;5;241;43m=\u001b[39;49m\u001b[43mREQUESTS_TIMEOUT\u001b[49m\u001b[43m,\u001b[49m\n\u001b[1;32m    172\u001b[0m \u001b[43m        \u001b[49m\u001b[43m)\u001b[49m\n\u001b[1;32m    173\u001b[0m \u001b[43m    \u001b[49m\u001b[43m)\u001b[49m\n\u001b[1;32m    174\u001b[0m \u001b[38;5;28;01mexcept\u001b[39;00m QiskitServerlessException \u001b[38;5;28;01mas\u001b[39;00m reason:\n",
      "File \u001b[0;32m~/miniconda3/envs/quantum_qiskit/lib/python3.11/site-packages/qiskit_serverless/utils/json.py:143\u001b[0m, in \u001b[0;36msafe_json_request\u001b[0;34m(request)\u001b[0m\n\u001b[1;32m    142\u001b[0m \u001b[38;5;28;01mif\u001b[39;00m response \u001b[38;5;129;01mis\u001b[39;00m \u001b[38;5;129;01mnot\u001b[39;00m \u001b[38;5;28;01mNone\u001b[39;00m \u001b[38;5;129;01mand\u001b[39;00m \u001b[38;5;129;01mnot\u001b[39;00m response\u001b[38;5;241m.\u001b[39mok:\n\u001b[0;32m--> 143\u001b[0m     \u001b[38;5;28;01mraise\u001b[39;00m QiskitServerlessException(\n\u001b[1;32m    144\u001b[0m         format_err_msg(\n\u001b[1;32m    145\u001b[0m             response\u001b[38;5;241m.\u001b[39mstatus_code,\n\u001b[1;32m    146\u001b[0m             \u001b[38;5;28mstr\u001b[39m(response\u001b[38;5;241m.\u001b[39mtext),\n\u001b[1;32m    147\u001b[0m         )\n\u001b[1;32m    148\u001b[0m     )\n\u001b[1;32m    150\u001b[0m decoding_error_message: Optional[\u001b[38;5;28mstr\u001b[39m] \u001b[38;5;241m=\u001b[39m \u001b[38;5;28;01mNone\u001b[39;00m\n",
      "\u001b[0;31mQiskitServerlessException\u001b[0m: \n| Message: Http bad request.\n| Code: 401\n| Details:\n|   - detail: Y",
      "\nThe above exception was the direct cause of the following exception:\n",
      "\u001b[0;31mQiskitServerlessException\u001b[0m                 Traceback (most recent call last)",
      "Cell \u001b[0;32mIn[14], line 1\u001b[0m\n\u001b[0;32m----> 1\u001b[0m catalog \u001b[38;5;241m=\u001b[39m \u001b[43mQiskitFunctionsCatalog\u001b[49m\u001b[43m(\u001b[49m\u001b[43m)\u001b[49m\n",
      "File \u001b[0;32m~/miniconda3/envs/quantum_qiskit/lib/python3.11/site-packages/qiskit_ibm_catalog/catalog.py:78\u001b[0m, in \u001b[0;36mQiskitFunctionsCatalog.__init__\u001b[0;34m(self, token, channel, instance, name)\u001b[0m\n\u001b[1;32m     56\u001b[0m \u001b[38;5;28;01mdef\u001b[39;00m \u001b[38;5;21m__init__\u001b[39m(\n\u001b[1;32m     57\u001b[0m     \u001b[38;5;28mself\u001b[39m,\n\u001b[1;32m     58\u001b[0m     token: Optional[\u001b[38;5;28mstr\u001b[39m] \u001b[38;5;241m=\u001b[39m \u001b[38;5;28;01mNone\u001b[39;00m,\n\u001b[0;32m   (...)\u001b[0m\n\u001b[1;32m     61\u001b[0m     name: Optional[\u001b[38;5;28mstr\u001b[39m] \u001b[38;5;241m=\u001b[39m \u001b[38;5;28;01mNone\u001b[39;00m,\n\u001b[1;32m     62\u001b[0m ) \u001b[38;5;241m-\u001b[39m\u001b[38;5;241m>\u001b[39m \u001b[38;5;28;01mNone\u001b[39;00m:\n\u001b[1;32m     63\u001b[0m \u001b[38;5;250m    \u001b[39m\u001b[38;5;124;03m\"\"\"\u001b[39;00m\n\u001b[1;32m     64\u001b[0m \u001b[38;5;124;03m    Initialize qiskit functions catalog.\u001b[39;00m\n\u001b[1;32m     65\u001b[0m \n\u001b[0;32m   (...)\u001b[0m\n\u001b[1;32m     76\u001b[0m \u001b[38;5;124;03m        name: Name of the account to load\u001b[39;00m\n\u001b[1;32m     77\u001b[0m \u001b[38;5;124;03m    \"\"\"\u001b[39;00m\n\u001b[0;32m---> 78\u001b[0m     \u001b[38;5;28mself\u001b[39m\u001b[38;5;241m.\u001b[39m_client \u001b[38;5;241m=\u001b[39m \u001b[43mIBMServerlessClient\u001b[49m\u001b[43m(\u001b[49m\n\u001b[1;32m     79\u001b[0m \u001b[43m        \u001b[49m\u001b[43mchannel\u001b[49m\u001b[38;5;241;43m=\u001b[39;49m\u001b[43mchannel\u001b[49m\u001b[43m,\u001b[49m\u001b[43m \u001b[49m\u001b[43mtoken\u001b[49m\u001b[38;5;241;43m=\u001b[39;49m\u001b[43mtoken\u001b[49m\u001b[43m,\u001b[49m\u001b[43m \u001b[49m\u001b[43minstance\u001b[49m\u001b[38;5;241;43m=\u001b[39;49m\u001b[43minstance\u001b[49m\u001b[43m,\u001b[49m\u001b[43m \u001b[49m\u001b[43mname\u001b[49m\u001b[38;5;241;43m=\u001b[39;49m\u001b[43mname\u001b[49m\n\u001b[1;32m     80\u001b[0m \u001b[43m    \u001b[49m\u001b[43m)\u001b[49m\n",
      "File \u001b[0;32m~/miniconda3/envs/quantum_qiskit/lib/python3.11/site-packages/qiskit_serverless/core/clients/serverless_client.py:608\u001b[0m, in \u001b[0;36mIBMServerlessClient.__init__\u001b[0;34m(self, token, name, instance, channel)\u001b[0m\n\u001b[1;32m    582\u001b[0m \u001b[38;5;250m\u001b[39m\u001b[38;5;124;03m\"\"\"\u001b[39;00m\n\u001b[1;32m    583\u001b[0m \u001b[38;5;124;03mInitialize a client with access to an IBMQ-provided remote cluster.\u001b[39;00m\n\u001b[1;32m    584\u001b[0m \n\u001b[0;32m   (...)\u001b[0m\n\u001b[1;32m    599\u001b[0m \u001b[38;5;124;03m    channel: identifies the method to use to authenticate the user\u001b[39;00m\n\u001b[1;32m    600\u001b[0m \u001b[38;5;124;03m\"\"\"\u001b[39;00m\n\u001b[1;32m    601\u001b[0m \u001b[38;5;28mself\u001b[39m\u001b[38;5;241m.\u001b[39maccount \u001b[38;5;241m=\u001b[39m \u001b[38;5;28mself\u001b[39m\u001b[38;5;241m.\u001b[39m_discover_account(\n\u001b[1;32m    602\u001b[0m     token\u001b[38;5;241m=\u001b[39mtoken,\n\u001b[1;32m    603\u001b[0m     instance\u001b[38;5;241m=\u001b[39minstance,\n\u001b[1;32m    604\u001b[0m     channel\u001b[38;5;241m=\u001b[39mchannel,\n\u001b[1;32m    605\u001b[0m     name\u001b[38;5;241m=\u001b[39mname,\n\u001b[1;32m    606\u001b[0m )\n\u001b[0;32m--> 608\u001b[0m \u001b[38;5;28;43msuper\u001b[39;49m\u001b[43m(\u001b[49m\u001b[43m)\u001b[49m\u001b[38;5;241;43m.\u001b[39;49m\u001b[38;5;21;43m__init__\u001b[39;49m\u001b[43m(\u001b[49m\n\u001b[1;32m    609\u001b[0m \u001b[43m    \u001b[49m\u001b[43mchannel\u001b[49m\u001b[38;5;241;43m=\u001b[39;49m\u001b[38;5;28;43mself\u001b[39;49m\u001b[38;5;241;43m.\u001b[39;49m\u001b[43maccount\u001b[49m\u001b[38;5;241;43m.\u001b[39;49m\u001b[43mchannel\u001b[49m\u001b[43m,\u001b[49m\n\u001b[1;32m    610\u001b[0m \u001b[43m    \u001b[49m\u001b[43mtoken\u001b[49m\u001b[38;5;241;43m=\u001b[39;49m\u001b[38;5;28;43mself\u001b[39;49m\u001b[38;5;241;43m.\u001b[39;49m\u001b[43maccount\u001b[49m\u001b[38;5;241;43m.\u001b[39;49m\u001b[43mtoken\u001b[49m\u001b[43m,\u001b[49m\n\u001b[1;32m    611\u001b[0m \u001b[43m    \u001b[49m\u001b[43minstance\u001b[49m\u001b[38;5;241;43m=\u001b[39;49m\u001b[38;5;28;43mself\u001b[39;49m\u001b[38;5;241;43m.\u001b[39;49m\u001b[43maccount\u001b[49m\u001b[38;5;241;43m.\u001b[39;49m\u001b[43minstance\u001b[49m\u001b[43m,\u001b[49m\n\u001b[1;32m    612\u001b[0m \u001b[43m    \u001b[49m\u001b[43mhost\u001b[49m\u001b[38;5;241;43m=\u001b[39;49m\u001b[43mIBM_SERVERLESS_HOST_URL\u001b[49m\u001b[43m,\u001b[49m\n\u001b[1;32m    613\u001b[0m \u001b[43m\u001b[49m\u001b[43m)\u001b[49m\n",
      "File \u001b[0;32m~/miniconda3/envs/quantum_qiskit/lib/python3.11/site-packages/qiskit_serverless/core/clients/serverless_client.py:152\u001b[0m, in \u001b[0;36mServerlessClient.__init__\u001b[0;34m(self, name, host, version, token, instance, channel)\u001b[0m\n\u001b[1;32m    150\u001b[0m \u001b[38;5;28msuper\u001b[39m()\u001b[38;5;241m.\u001b[39m\u001b[38;5;21m__init__\u001b[39m(name, host, token, instance, channel)\n\u001b[1;32m    151\u001b[0m \u001b[38;5;28mself\u001b[39m\u001b[38;5;241m.\u001b[39mversion \u001b[38;5;241m=\u001b[39m version\n\u001b[0;32m--> 152\u001b[0m \u001b[38;5;28;43mself\u001b[39;49m\u001b[38;5;241;43m.\u001b[39;49m\u001b[43m_verify_credentials\u001b[49m\u001b[43m(\u001b[49m\u001b[43m)\u001b[49m\n\u001b[1;32m    154\u001b[0m \u001b[38;5;28mself\u001b[39m\u001b[38;5;241m.\u001b[39m_files_client \u001b[38;5;241m=\u001b[39m GatewayFilesClient(\n\u001b[1;32m    155\u001b[0m     \u001b[38;5;28mself\u001b[39m\u001b[38;5;241m.\u001b[39mhost, \u001b[38;5;28mself\u001b[39m\u001b[38;5;241m.\u001b[39mtoken, \u001b[38;5;28mself\u001b[39m\u001b[38;5;241m.\u001b[39mversion, \u001b[38;5;28mself\u001b[39m\u001b[38;5;241m.\u001b[39minstance, \u001b[38;5;28mself\u001b[39m\u001b[38;5;241m.\u001b[39mchannel\n\u001b[1;32m    156\u001b[0m )\n",
      "File \u001b[0;32m~/miniconda3/envs/quantum_qiskit/lib/python3.11/site-packages/qiskit_serverless/core/clients/serverless_client.py:175\u001b[0m, in \u001b[0;36mServerlessClient._verify_credentials\u001b[0;34m(self)\u001b[0m\n\u001b[1;32m    165\u001b[0m     safe_json_request(\n\u001b[1;32m    166\u001b[0m         request\u001b[38;5;241m=\u001b[39m\u001b[38;5;28;01mlambda\u001b[39;00m: requests\u001b[38;5;241m.\u001b[39mget(\n\u001b[1;32m    167\u001b[0m             url\u001b[38;5;241m=\u001b[39m\u001b[38;5;124mf\u001b[39m\u001b[38;5;124m\"\u001b[39m\u001b[38;5;132;01m{\u001b[39;00m\u001b[38;5;28mself\u001b[39m\u001b[38;5;241m.\u001b[39mhost\u001b[38;5;132;01m}\u001b[39;00m\u001b[38;5;124m/api/v1/programs/\u001b[39m\u001b[38;5;124m\"\u001b[39m,\n\u001b[0;32m   (...)\u001b[0m\n\u001b[1;32m    172\u001b[0m         )\n\u001b[1;32m    173\u001b[0m     )\n\u001b[1;32m    174\u001b[0m \u001b[38;5;28;01mexcept\u001b[39;00m QiskitServerlessException \u001b[38;5;28;01mas\u001b[39;00m reason:\n\u001b[0;32m--> 175\u001b[0m     \u001b[38;5;28;01mraise\u001b[39;00m QiskitServerlessException(\n\u001b[1;32m    176\u001b[0m         \u001b[38;5;124m\"\u001b[39m\u001b[38;5;124mCredentials couldn\u001b[39m\u001b[38;5;124m'\u001b[39m\u001b[38;5;124mt be verified.\u001b[39m\u001b[38;5;124m\"\u001b[39m\n\u001b[1;32m    177\u001b[0m     ) \u001b[38;5;28;01mfrom\u001b[39;00m \u001b[38;5;21;01mreason\u001b[39;00m\n",
      "\u001b[0;31mQiskitServerlessException\u001b[0m: Credentials couldn't be verified."
     ]
    }
   ],
   "source": [
    "catalog = QiskitFunctionsCatalog()"
   ]
  },
  {
   "cell_type": "code",
   "execution_count": 10,
   "id": "20ec488f",
   "metadata": {},
   "outputs": [
    {
     "name": "stdout",
     "output_type": "stream",
     "text": [
      "/bin/bash: /home/ryukijano/miniconda3/lib/libtinfo.so.6: no version information available (required by /bin/bash)\n",
      "Looking in indexes: https://pypi.org/simple, https://pypi.ngc.nvidia.com\n",
      "Collecting qctrl-visualizer\n",
      "  Downloading qctrl_visualizer-9.0.0-py3-none-any.whl.metadata (2.8 kB)\n",
      "Requirement already satisfied: matplotlib<4.0.0,>=3.6.3 in /home/ryukijano/miniconda3/envs/quantum_qiskit/lib/python3.11/site-packages (from qctrl-visualizer) (3.9.0)\n",
      "Requirement already satisfied: numpy<3.0.0,>=2.0.2 in /home/ryukijano/miniconda3/envs/quantum_qiskit/lib/python3.11/site-packages (from qctrl-visualizer) (2.2.6)\n",
      "Requirement already satisfied: scipy<2.0.0,>=1.12.0 in /home/ryukijano/miniconda3/envs/quantum_qiskit/lib/python3.11/site-packages (from qctrl-visualizer) (1.13.1)\n",
      "Requirement already satisfied: contourpy>=1.0.1 in /home/ryukijano/miniconda3/envs/quantum_qiskit/lib/python3.11/site-packages (from matplotlib<4.0.0,>=3.6.3->qctrl-visualizer) (1.2.1)\n",
      "Requirement already satisfied: cycler>=0.10 in /home/ryukijano/miniconda3/envs/quantum_qiskit/lib/python3.11/site-packages (from matplotlib<4.0.0,>=3.6.3->qctrl-visualizer) (0.12.1)\n",
      "Requirement already satisfied: fonttools>=4.22.0 in /home/ryukijano/miniconda3/envs/quantum_qiskit/lib/python3.11/site-packages (from matplotlib<4.0.0,>=3.6.3->qctrl-visualizer) (4.53.0)\n",
      "Requirement already satisfied: kiwisolver>=1.3.1 in /home/ryukijano/miniconda3/envs/quantum_qiskit/lib/python3.11/site-packages (from matplotlib<4.0.0,>=3.6.3->qctrl-visualizer) (1.4.5)\n",
      "Requirement already satisfied: packaging>=20.0 in /home/ryukijano/miniconda3/envs/quantum_qiskit/lib/python3.11/site-packages (from matplotlib<4.0.0,>=3.6.3->qctrl-visualizer) (23.2)\n",
      "Requirement already satisfied: pillow>=8 in /home/ryukijano/miniconda3/envs/quantum_qiskit/lib/python3.11/site-packages (from matplotlib<4.0.0,>=3.6.3->qctrl-visualizer) (10.3.0)\n",
      "Requirement already satisfied: pyparsing>=2.3.1 in /home/ryukijano/miniconda3/envs/quantum_qiskit/lib/python3.11/site-packages (from matplotlib<4.0.0,>=3.6.3->qctrl-visualizer) (3.1.2)\n",
      "Requirement already satisfied: python-dateutil>=2.7 in /home/ryukijano/miniconda3/envs/quantum_qiskit/lib/python3.11/site-packages (from matplotlib<4.0.0,>=3.6.3->qctrl-visualizer) (2.9.0)\n",
      "Requirement already satisfied: six>=1.5 in /home/ryukijano/miniconda3/envs/quantum_qiskit/lib/python3.11/site-packages (from python-dateutil>=2.7->matplotlib<4.0.0,>=3.6.3->qctrl-visualizer) (1.16.0)\n",
      "Downloading qctrl_visualizer-9.0.0-py3-none-any.whl (48 kB)\n",
      "\u001b[2K   \u001b[90m━━━━━━━━━━━━━━━━━━━━━━━━━━━━━━━━━━━━━━━━\u001b[0m \u001b[32m48.8/48.8 kB\u001b[0m \u001b[31m2.5 MB/s\u001b[0m eta \u001b[36m0:00:00\u001b[0m\n",
      "\u001b[?25hInstalling collected packages: qctrl-visualizer\n",
      "Successfully installed qctrl-visualizer-9.0.0\n"
     ]
    }
   ],
   "source": [
    "!pip install qctrl-visualizer"
   ]
  },
  {
   "cell_type": "code",
   "execution_count": 11,
   "id": "33074f23",
   "metadata": {},
   "outputs": [],
   "source": [
    "import fireopal as fo\n",
    "import qiskit\n",
    "from qiskit_ibm_runtime import QiskitRuntimeService\n",
    "import matplotlib.pyplot as plt\n",
    "import qctrlvisualizer as qv"
   ]
  },
  {
   "cell_type": "code",
   "execution_count": 12,
   "id": "32c78a98",
   "metadata": {},
   "outputs": [
    {
     "ename": "ModuleNotFoundError",
     "evalue": "No module named 'qctrl'",
     "output_type": "error",
     "traceback": [
      "\u001b[0;31m---------------------------------------------------------------------------\u001b[0m",
      "\u001b[0;31mModuleNotFoundError\u001b[0m                       Traceback (most recent call last)",
      "Cell \u001b[0;32mIn[12], line 1\u001b[0m\n\u001b[0;32m----> 1\u001b[0m \u001b[38;5;28;01mimport\u001b[39;00m \u001b[38;5;21;01mqctrl\u001b[39;00m\n\u001b[1;32m      2\u001b[0m \u001b[38;5;28;01mfrom\u001b[39;00m \u001b[38;5;21;01mqctrl\u001b[39;00m \u001b[38;5;28;01mimport\u001b[39;00m Qctrl\n\u001b[1;32m      3\u001b[0m \u001b[38;5;28;01mfrom\u001b[39;00m \u001b[38;5;21;01mqctrl\u001b[39;00m \u001b[38;5;28;01mimport\u001b[39;00m FireOpal\n",
      "\u001b[0;31mModuleNotFoundError\u001b[0m: No module named 'qctrl'"
     ]
    }
   ],
   "source": [
    "\n",
    "import qctrl\n",
    "from qctrl import Qctrl\n",
    "from qctrl import FireOpal\n",
    "\n"
   ]
  },
  {
   "cell_type": "markdown",
   "id": "4be25fca",
   "metadata": {},
   "source": [
    "## 1 | Hamiltonian\n",
    "#### **Hamiltonian: Ising Model (4 Qubits)**\n",
    "\n",
    "The transverse-field Ising model Hamiltonian for 4 qubits is given by:\n",
    "\n",
    "\n",
    "$$\n",
    "\\begin{align*}\n",
    "H &= h \\sum_{i=0}^{3} Z_i + J \\sum_{i=0}^{2} Z_i Z_{i+1}\n",
    "\\\\&\n",
    "= (\\text{field terms}) + (\\text{interaction terms})\n",
    "\\end{align*}\n",
    "$$\n",
    "\n",
    "where:\n",
    "- $h$ = transverse field strength\n",
    "- $J$ = coupling constant\n",
    "- $Z_i$ = Pauli-Z operator acting on qubit \\(i\\)"
   ]
  },
  {
   "cell_type": "markdown",
   "id": "59098605",
   "metadata": {},
   "source": [
    "### Hamiltonian"
   ]
  },
  {
   "cell_type": "code",
   "execution_count": 13,
   "id": "d4648f59",
   "metadata": {},
   "outputs": [],
   "source": [
    "from qiskit.quantum_info import SparsePauliOp\n",
    "\n",
    "def build_ising_hamiltonian(n_qubits, h = 1.0, J = 1.0, periodic=False):\n",
    "    \"\"\"\n",
    "    Build Ising Hamiltonian: \n",
    "    H = h Σ Z_i + J Σ Z_i Z_{i+1}\n",
    "    \n",
    "    Args:\n",
    "        n_qubits (int): number of qubits\n",
    "        h (float): transverse field strength (Z_i)\n",
    "        J (float): coupling strength (Z_i Z_{i+1})\n",
    "        periodic (bool): add Z_{N-1} Z_0 term for periodic boundary\n",
    "    \n",
    "    Returns:\n",
    "        SparsePauliOp: Hamiltonian operator\n",
    "    \"\"\"\n",
    "    \n",
    "    def pauli_string_z(n, qubits):\n",
    "        \"\"\"Create a Pauli string for Z operators on specified qubits.\"\"\" # express Hamiltonian in terms of Pauli gates/operators\n",
    "        s = ['I'] * n\n",
    "        for q in qubits:\n",
    "            s[q] = 'Z'\n",
    "        return ''.join(s)\n",
    "\n",
    "    pauli_terms = [] # list for terms in the Hamiltonian\n",
    "    \n",
    "    # Transverse field: h * Z_i\n",
    "    for i in range(n_qubits):\n",
    "        pauli_terms.append( (pauli_string_z(n_qubits, [i]), h) )\n",
    "    \n",
    "    # Nearest-neighbor interactions: J * Z_i Z_{i+1}\n",
    "    for i in range(n_qubits - 1):\n",
    "        pauli_terms.append( (pauli_string_z(n_qubits, [i, i+1]), J) )\n",
    "    \n",
    "    if periodic:\n",
    "        pauli_terms.append( (pauli_string_z(n_qubits, [n_qubits-1, 0]), J) )\n",
    "    \n",
    "    # Build SparsePauliOp\n",
    "    hamiltonian = SparsePauliOp.from_list(pauli_terms)\n",
    "    return hamiltonian"
   ]
  },
  {
   "cell_type": "code",
   "execution_count": 14,
   "id": "3efbda22",
   "metadata": {},
   "outputs": [
    {
     "name": "stdout",
     "output_type": "stream",
     "text": [
      "SparsePauliOp(['ZIII', 'IZII', 'IIZI', 'IIIZ', 'ZZII', 'IZZI', 'IIZZ'],\n",
      "              coeffs=[1.+0.j, 1.+0.j, 1.+0.j, 1.+0.j, 1.+0.j, 1.+0.j, 1.+0.j])\n"
     ]
    }
   ],
   "source": [
    "# construct Hamiltonian by specified paramaeters\n",
    "\n",
    "# parameters\n",
    "n_qubits = 4 \n",
    "h = 1.0\n",
    "J = 1.0\n",
    "\n",
    "# create Ising Hamiltonian\n",
    "H = build_ising_hamiltonian(n_qubits, h, J, periodic=False)\n",
    "print(H)"
   ]
  },
  {
   "cell_type": "markdown",
   "id": "bd8f30f0",
   "metadata": {},
   "source": [
    "## 2 | Ansatz (Quantum Circuit)\n",
    "For now, use a standard VQE quantum circuit called \"TwoLocal\".\n",
    "\n",
    "**Source**: Kandala et al., Nature 549, 242–246 (2017)\n",
    "Hardware-efficient variational quantum eigensolver for small molecules and quantum magnets.\n",
    "DOI: 10.1038/nature23879"
   ]
  },
  {
   "cell_type": "code",
   "execution_count": 15,
   "id": "fcc631e0",
   "metadata": {},
   "outputs": [
    {
     "name": "stderr",
     "output_type": "stream",
     "text": [
      "/tmp/ipykernel_41223/224811712.py:6: DeprecationWarning: The class ``qiskit.circuit.library.n_local.two_local.TwoLocal`` is deprecated as of Qiskit 2.1. It will be removed in Qiskit 3.0. Use the function qiskit.circuit.library.n_local instead.\n",
      "  ansatz = TwoLocal(\n"
     ]
    },
    {
     "data": {
      "image/png": "[encoded data removed]",
      "text/plain": [
       "<Figure size 872.774x367.889 with 1 Axes>"
      ]
     },
     "execution_count": 15,
     "metadata": {},
     "output_type": "execute_result"
    }
   ],
   "source": [
    "from qiskit.circuit.library import TwoLocal\n",
    "\n",
    "n_qubits = 4\n",
    "\n",
    "# Define the ansatz (quantum circuit)\n",
    "ansatz = TwoLocal(\n",
    "    num_qubits=n_qubits,\n",
    "    rotation_blocks='ry',         # single‑qubit rotations: Ry\n",
    "    entanglement_blocks='cz',     # two‑qubit entanglement: CZ gates\n",
    "    entanglement='linear',        # linear (nearest‑neighbor) entanglement\n",
    "    reps=3,                        # number of layers (depth)\n",
    "    parameter_prefix=r'$\\theta$'          # name of parameters\n",
    ")\n",
    "\n",
    "# Draw the ansatz circuit (overall)\n",
    "ansatz.draw(\"mpl\")"
   ]
  },
  {
   "cell_type": "code",
   "execution_count": 20,
   "id": "00742657",
   "metadata": {},
   "outputs": [
    {
     "data": {
      "image/png": "[encoded data removed]",
      "text/plain": [
       "<Figure size 1040x367.889 with 1 Axes>"
      ]
     },
     "execution_count": 20,
     "metadata": {},
     "output_type": "execute_result"
    }
   ],
   "source": [
    "# Draw the ansatz circuit (decomposed)\n",
    "ansatz.decompose().draw(\"mpl\")"
   ]
  },
  {
   "cell_type": "code",
   "execution_count": 21,
   "id": "0efad3d5",
   "metadata": {},
   "outputs": [
    {
     "name": "stdout",
     "output_type": "stream",
     "text": [
      "Number of parameters in ansatz: 16\n"
     ]
    }
   ],
   "source": [
    "print(f\"Number of parameters in ansatz: {len(ansatz.parameters)}\")"
   ]
  },
  {
   "cell_type": "code",
   "execution_count": null,
   "id": "56576c1b",
   "metadata": {},
   "outputs": [],
   "source": []
  },
  {
   "cell_type": "markdown",
   "id": "c4a864c6",
   "metadata": {},
   "source": [
    "## 3 | Estimator (backend)"
   ]
  },
  {
   "cell_type": "markdown",
   "id": "2854ebfb",
   "metadata": {},
   "source": [
    "### State vector estimator (perfect processing)"
   ]
  },
  {
   "cell_type": "code",
   "execution_count": null,
   "id": "7e2fe5a3",
   "metadata": {},
   "outputs": [],
   "source": [
    "from qiskit_aer.primitives import Estimator\n",
    "estimator = Estimator()"
   ]
  },
  {
   "cell_type": "code",
   "execution_count": 23,
   "id": "5d13227a",
   "metadata": {},
   "outputs": [],
   "source": [
    "# from qiskit.primitives import Estimator\n",
    "# from qiskit_aer import AerSimulator\n",
    "\n",
    "# # create AerSimulator backend\n",
    "# aer_simulator = AerSimulator()\n",
    "\n",
    "# # create Estimator tied to AerSimulator\n",
    "# estimator = Estimator(backend=aer_simulator)"
   ]
  },
  {
   "cell_type": "code",
   "execution_count": 24,
   "id": "e02862b7",
   "metadata": {},
   "outputs": [
    {
     "ename": "NameError",
     "evalue": "name 'qc' is not defined",
     "output_type": "error",
     "traceback": [
      "\u001b[0;31m---------------------------------------------------------------------------\u001b[0m",
      "\u001b[0;31mNameError\u001b[0m                                 Traceback (most recent call last)",
      "Cell \u001b[0;32mIn[24], line 5\u001b[0m\n\u001b[1;32m      3\u001b[0m aer_sim \u001b[38;5;241m=\u001b[39m AerSimulator()\n\u001b[1;32m      4\u001b[0m pm \u001b[38;5;241m=\u001b[39m generate_preset_pass_manager(backend\u001b[38;5;241m=\u001b[39maer_sim, optimization_level\u001b[38;5;241m=\u001b[39m\u001b[38;5;241m1\u001b[39m)\n\u001b[0;32m----> 5\u001b[0m isa_qc \u001b[38;5;241m=\u001b[39m pm\u001b[38;5;241m.\u001b[39mrun(\u001b[43mqc\u001b[49m)\n\u001b[1;32m      6\u001b[0m \u001b[38;5;28;01mwith\u001b[39;00m Session(backend\u001b[38;5;241m=\u001b[39maer_sim) \u001b[38;5;28;01mas\u001b[39;00m session:\n\u001b[1;32m      7\u001b[0m     sampler \u001b[38;5;241m=\u001b[39m Sampler(mode\u001b[38;5;241m=\u001b[39msession)\n",
      "\u001b[0;31mNameError\u001b[0m: name 'qc' is not defined"
     ]
    }
   ],
   "source": [
    "from qiskit_aer import AerSimulator\n",
    "\n",
    "aer_sim = AerSimulator()\n",
    "pm = generate_preset_pass_manager(backend=aer_sim, optimization_level=1)\n",
    "isa_qc = pm.run(qc)\n",
    "with Session(backend=aer_sim) as session:\n",
    "    sampler = Sampler(mode=session)\n",
    "    result = sampler.run([isa_qc]).result()"
   ]
  },
  {
   "cell_type": "markdown",
   "id": "54a9c993",
   "metadata": {},
   "source": [
    "## 4 | Cost function"
   ]
  },
  {
   "cell_type": "markdown",
   "id": "105f3378",
   "metadata": {},
   "source": []
  },
  {
   "cell_type": "code",
   "execution_count": null,
   "id": "b006f70d",
   "metadata": {},
   "outputs": [],
   "source": [
    "# # cost function for VQE\n",
    "# def original_cost_fn(params, ansatz, hamiltonian, estimator):\n",
    "#     \"\"\"    \n",
    "#     Inputs: \n",
    "#     - params: parameters for the ansatz\n",
    "#     - ansatz: quantum circuit ansatz\n",
    "#     - hamiltonian: Ising Hamiltonian operator\n",
    "#     - estimator: Qiskit Estimator for running circuits\n",
    "    \n",
    "#     Returns:\n",
    "#     - energy: expectation value of the Hamiltonian\n",
    "#     \"\"\"\n",
    "#     qc = ansatz.assign_parameters(params) # must bind parameters to the ansatz (??)\n",
    "#     result = estimator.run([qc], [hamiltonian]).result()\n",
    "#     energy = result.values[0] # first value is the expected energy\n",
    "#     return energy\n",
    "\n",
    "# from functools import partial\n",
    "\n",
    "# cost_fn = partial(original_cost_fn, ansatz=ansatz, hamiltonian=H, estimator=estimator)"
   ]
  },
  {
   "cell_type": "code",
   "execution_count": null,
   "id": "dd627202",
   "metadata": {},
   "outputs": [],
   "source": [
    "from functools import partial\n",
    "\n",
    "def original_cost_fn(params, ansatz, hamiltonian, estimator):\n",
    "    \"\"\"    \n",
    "    Inputs: \n",
    "    - params: parameters for the ansatz\n",
    "    - ansatz: quantum circuit ansatz with free parameters\n",
    "    - hamiltonian: Ising Hamiltonian operator\n",
    "    - estimator: Qiskit Estimator\n",
    "    \n",
    "    Returns:\n",
    "    - energy: expectation value of the Hamiltonian\n",
    "    \"\"\"\n",
    "    # NEW: build param_dict mapping each Parameter to its value\n",
    "    param_dict = dict(zip(ansatz.parameters, params))\n",
    "    qc = ansatz.assign_parameters(param_dict)\n",
    "    \n",
    "    result = estimator.run([qc], [hamiltonian]).result()\n",
    "    energy = result.values[0]\n",
    "    return energy\n",
    "\n",
    "cost_fn = partial(original_cost_fn, ansatz=ansatz, hamiltonian=H, estimator=estimator)"
   ]
  },
  {
   "cell_type": "markdown",
   "id": "ba502430",
   "metadata": {},
   "source": [
    "## 5 | Optimiser\n",
    "Classical optimiser to minimise energy (approx. GS upper bound)"
   ]
  },
  {
   "cell_type": "code",
   "execution_count": null,
   "id": "bf7591e8",
   "metadata": {},
   "outputs": [],
   "source": [
    "# create COBYLA optimizer (to get results)\n",
    "from scipy.optimize import minimize\n",
    "\n",
    "def cobyla_optimizer(fun, x0, jac=None, bounds=None):\n",
    "    \"\"\"\n",
    "    Wrapper for SciPy COBYLA optimizer.\n",
    "    \"\"\"\n",
    "    result = minimize(\n",
    "        fun=fun,\n",
    "        x0=x0,\n",
    "        method=\"COBYLA\",\n",
    "        jac=jac,\n",
    "        bounds=bounds,\n",
    "        options={\"maxiter\": 200}\n",
    "    )\n",
    "    return result.x, result.fun, result.nfev"
   ]
  },
  {
   "cell_type": "markdown",
   "id": "adee554d",
   "metadata": {},
   "source": [
    "## 6 | Run VQE. Extract results"
   ]
  },
  {
   "cell_type": "code",
   "execution_count": null,
   "id": "bd1d2f33",
   "metadata": {},
   "outputs": [
    {
     "name": "stdout",
     "output_type": "stream",
     "text": [
      "Optimal parameters: [ 0.68466711  1.72714685  6.84414373  4.76582649  0.05027853 -0.08217055\n",
      "  0.60595249  2.53430772  0.58676115  4.78176814  4.41928449  5.42670916\n",
      "  2.10578111  6.45692165  5.39333842  0.42500914]\n",
      "Estimated ground state energy: -2.853515625\n",
      "Function evaluations: 153\n"
     ]
    }
   ],
   "source": [
    "# initial parameters for the ansatz\n",
    "x0 = np.random.uniform(0, 2*np.pi, size = len(ansatz.parameters)) # randomly guess initial parameters. \n",
    "# require: length of x0 = no. of parameters in the ansatz\n",
    "\n",
    "# ground_state = (params, ansatz, H, estimator)\n",
    "\n",
    "optimal_params, optimal_energy, nfev = cobyla_optimizer(cost_fn, x0)\n",
    "\n",
    "print(f\"Optimal parameters: {optimal_params}\")\n",
    "print(f\"Estimated ground state energy: {optimal_energy}\")\n",
    "print(f\"Function evaluations: {nfev}\")"
   ]
  },
  {
   "cell_type": "code",
   "execution_count": null,
   "id": "ea969e62",
   "metadata": {},
   "outputs": [
    {
     "name": "stdout",
     "output_type": "stream",
     "text": [
      "Optimal parameters: [ 2.55912721  5.81468359  0.03274341  5.07481716  5.79169597  2.68008104\n",
      "  6.0874324   3.07101106  5.44269944  4.44807452  3.23182602  6.24321817\n",
      "  6.02826136 -1.10205975 -0.02293282  3.56983196]\n",
      "Estimated ground state energy: -2.994140625\n",
      "Function evaluations: 187\n"
     ]
    }
   ],
   "source": [
    "# initial parameters for the ansatz\n",
    "x0 = np.random.uniform(0, 2*np.pi, size = len(ansatz.parameters)) # randomly guess initial parameters. \n",
    "# require: length of x0 = no. of parameters in the ansatz\n",
    "\n",
    "# ground_state = (params, ansatz, H, estimator)\n",
    "\n",
    "optimal_params, optimal_energy, nfev = cobyla_optimizer(cost_fn, x0)\n",
    "\n",
    "print(f\"Optimal parameters: {optimal_params}\")\n",
    "print(f\"Estimated ground state energy: {optimal_energy}\")\n",
    "print(f\"Function evaluations: {nfev}\")"
   ]
  },
  {
   "cell_type": "markdown",
   "id": "b7645862",
   "metadata": {},
   "source": [
    "note: repeat inidividual measurements more. \n",
    "\n",
    "use Pennylane to \n",
    "QTip"
   ]
  },
  {
   "cell_type": "code",
   "execution_count": null,
   "id": "8dc8d26f",
   "metadata": {},
   "outputs": [],
   "source": []
  },
  {
   "cell_type": "markdown",
   "id": "fa9ef1fc",
   "metadata": {},
   "source": [
    "# Discussion"
   ]
  },
  {
   "cell_type": "markdown",
   "id": "72999b03",
   "metadata": {},
   "source": [
    "## How do I reach a lower upper bound? \n",
    "True GS: -4."
   ]
  },
  {
   "cell_type": "code",
   "execution_count": null,
   "id": "8892f535",
   "metadata": {},
   "outputs": [],
   "source": [
    "// ... existing code ...\n",
    "\n",
    "# Import necessary libraries\n",
    "import pyscf\n",
    "from pyscf import gto, scf, mcscf\n",
    "from qiskit.quantum_info import SparsePauliOp\n",
    "from qiskit.circuit.library import TwoLocal  # For now, use as placeholder\n",
    "from qiskit_algorithms import VQE\n",
    "from qiskit_algorithms.optimizers import COBYLA\n",
    "from qiskit.primitives import Estimator\n",
    "\n",
    "# 1. Define molecule (simple NiH for demo)\n",
    "mol = gto.M(atom='Ni 0 0 0; H 0 0 1.5', basis='sto-3g', spin=1)  # Adjust spin for Ni\n",
    "mf = scf.RHF(mol).run()\n",
    "\n",
    "# 2. Active space (e.g., 2 electrons, 2 orbitals for simplicity)\n",
    "my_casscf = mcscf.CASSCF(mf, 2, 2).run()\n",
    "\n",
    "# Extract integrals (one and two-body)\n",
    "h1 = my_casscf.mo_coeff.T.dot(mf.get_hcore()).dot(my_casscf.mo_coeff)\n",
    "h2 = pyscf.ao2mo.full(mol, my_casscf.mo_coeff)\n",
    "\n",
    "# 3. Manual second-quantized Hamiltonian (fermionic)\n",
    "# For simplicity, assume 4 spin-orbitals (2 spatial * 2 spin)\n",
    "# Build terms: sum h_pq a_p^dagger a_q + 1/2 sum h_pqrs a_p^dagger a_q^dagger a_r a_s\n",
    "\n",
    "# 4. Jordan-Wigner mapping to qubits\n",
    "from qiskit.opflow import FermionicOp, JordanWignerMapper\n",
    "mapper = JordanWignerMapper()\n",
    "ferm_op = FermionicOp(...)  # Construct from h1, h2\n",
    "qubit_op = mapper.map(ferm_op)\n",
    "\n",
    "# 5. Ansatz (use TwoLocal for now, or implement UCCSD)\n",
    "ansatz = TwoLocal(num_qubits=qubit_op.num_qubits, rotation_blocks='ry', entanglement_blocks='cz', reps=3)\n",
    "\n",
    "# 6. VQE setup\n",
    "optimizer = COBYLA(maxiter=100)\n",
    "vqe = VQE(estimator=Estimator(), ansatz=ansatz, optimizer=optimizer)\n",
    "result = vqe.compute_minimum_eigenvalue(operator=qubit_op)\n",
    "print(result)\n",
    "\n",
    "# 7. Q-CTRL integration (basic, assuming qctrl-qiskit installed)\n",
    "# from qctrlqiskit import QctrlQiskit\n",
    "# qctrl = QctrlQiskit()\n",
    "# mitigated_result = qctrl.run_with_mitigation(ansatz, qubit_op)\n",
    "\n",
    "// ... existing code ..."
   ]
  },
  {
   "cell_type": "markdown",
   "id": "f9f973d7",
   "metadata": {},
   "source": [
    "# Stash/Archived"
   ]
  }
 ],
 "metadata": {
  "kernelspec": {
   "display_name": "quantum_qiskit",
   "language": "python",
   "name": "python3"
  },
  "language_info": {
   "codemirror_mode": {
    "name": "ipython",
    "version": 3
   },
   "file_extension": ".py",
   "mimetype": "text/x-python",
   "name": "python",
   "nbconvert_exporter": "python",
   "pygments_lexer": "ipython3",
   "version": "3.11.7"
  }
 },
 "nbformat": 4,
 "nbformat_minor": 5
}
