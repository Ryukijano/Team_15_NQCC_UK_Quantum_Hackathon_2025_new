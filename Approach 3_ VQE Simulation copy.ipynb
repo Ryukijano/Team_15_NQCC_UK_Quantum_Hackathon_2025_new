{
 "cells": [
  {
   "cell_type": "markdown",
   "id": "e1eaa38d",
   "metadata": {},
   "source": [
    "# Approach 3: VQE Simulation"
   ]
  },
  {
   "cell_type": "markdown",
   "id": "9c7947c4",
   "metadata": {},
   "source": [
    "## 0 | Setup"
   ]
  },
  {
   "cell_type": "code",
   "execution_count": 18,
   "id": "218930a9",
   "metadata": {},
   "outputs": [],
   "source": [
    "# import libraries\n",
    "import numpy as np\n",
    "import matplotlib.pyplot as plt\n",
    "import pandas as pd\n",
    "\n",
    "# import Qiskit libraries\n",
    "from qiskit import QuantumCircuit\n",
    "from qiskit.quantum_info import SparsePauliOp\n",
    "from qiskit.transpiler import generate_preset_pass_manager\n",
    "from qiskit_ibm_runtime import EstimatorV2 as Estimators"
   ]
  },
  {
   "cell_type": "code",
   "execution_count": 19,
   "id": "33b8d57f",
   "metadata": {},
   "outputs": [],
   "source": [
    "your_api_key = \"bgrJ_6-zK6kQSt78RJydUP2I1YQKbDtkE7UysTKLNhXN\"\n",
    "your_crn = \"crn:v1:bluemix:public:quantum-computing:us-east:a/d4f95db0515b47b7ba61dba8a424f873:e27020ce-4df5-4d23-a715-188a850e36c9::\"\n",
    "from qiskit_ibm_runtime import QiskitRuntimeService\n",
    "QiskitRuntimeService.save_account(\n",
    "    channel=\"ibm_quantum_platform\",\n",
    "    token=your_api_key,\n",
    "    instance=your_crn,\n",
    "    overwrite=True\n",
    ")"
   ]
  },
  {
   "cell_type": "code",
   "execution_count": 20,
   "id": "64fca0be",
   "metadata": {},
   "outputs": [],
   "source": [
    "from qiskit_ibm_catalog import QiskitFunctionsCatalog\n",
    " \n",
    "catalog = QiskitFunctionsCatalog(\n",
    "    channel=\"ibm_quantum_platform\",\n",
    "    instance = your_crn,\n",
    "    token = your_api_key,\n",
    ")\n",
    " \n",
    "# Access Function\n",
    "perf_mgmt = catalog.load(\"q-ctrl/performance-management\")"
   ]
  },
  {
   "cell_type": "code",
   "execution_count": null,
   "id": "a75ba6cd",
   "metadata": {},
   "outputs": [],
   "source": [
    "# # how to use qctrl\n",
    "# sampler_pub = [(qc,)]\n",
    "\n",
    "# qctrl_sampler_job = perf_mgmt.run(\n",
    "#     primitive = \"sampler\", \n",
    "#     pubs = sampler_pub)"
   ]
  },
  {
   "cell_type": "markdown",
   "id": "4be25fca",
   "metadata": {},
   "source": [
    "## 1 | Hamiltonian\n",
    "#### **Hamiltonian: Ising Model (4 Qubits)**\n",
    "\n",
    "The transverse-field Ising model Hamiltonian for 4 qubits is given by:\n",
    "\n",
    "\n",
    "$$\n",
    "\\begin{align*}\n",
    "H &= h \\sum_{i=0}^{3} Z_i + J \\sum_{i=0}^{2} Z_i Z_{i+1}\n",
    "\\\\&\n",
    "= (\\text{field terms}) + (\\text{interaction terms})\n",
    "\\end{align*}\n",
    "$$\n",
    "\n",
    "where:\n",
    "- $h$ = transverse field strength\n",
    "- $J$ = coupling constant\n",
    "- $Z_i$ = Pauli-Z operator acting on qubit \\(i\\)"
   ]
  },
  {
   "cell_type": "markdown",
   "id": "59098605",
   "metadata": {},
   "source": [
    "### Hamiltonian"
   ]
  },
  {
   "cell_type": "code",
   "execution_count": 4,
   "id": "d4648f59",
   "metadata": {},
   "outputs": [],
   "source": [
    "from qiskit.quantum_info import SparsePauliOp\n",
    "\n",
    "def build_ising_hamiltonian(n_qubits, h = 1.0, J = 1.0, periodic=False):\n",
    "    \"\"\"\n",
    "    Build Ising Hamiltonian: \n",
    "    H = h Σ Z_i + J Σ Z_i Z_{i+1}\n",
    "    \n",
    "    Args:\n",
    "        n_qubits (int): number of qubits\n",
    "        h (float): transverse field strength (Z_i)\n",
    "        J (float): coupling strength (Z_i Z_{i+1})\n",
    "        periodic (bool): add Z_{N-1} Z_0 term for periodic boundary\n",
    "    \n",
    "    Returns:\n",
    "        SparsePauliOp: Hamiltonian operator\n",
    "    \"\"\"\n",
    "    \n",
    "    def pauli_string_z(n, qubits):\n",
    "        \"\"\"Create a Pauli string for Z operators on specified qubits.\"\"\" # express Hamiltonian in terms of Pauli gates/operators\n",
    "        s = ['I'] * n\n",
    "        for q in qubits:\n",
    "            s[q] = 'Z'\n",
    "        return ''.join(s)\n",
    "\n",
    "    pauli_terms = [] # list for terms in the Hamiltonian\n",
    "    \n",
    "    # Transverse field: h * Z_i\n",
    "    for i in range(n_qubits):\n",
    "        pauli_terms.append( (pauli_string_z(n_qubits, [i]), h) )\n",
    "    \n",
    "    # Nearest-neighbor interactions: J * Z_i Z_{i+1}\n",
    "    for i in range(n_qubits - 1):\n",
    "        pauli_terms.append( (pauli_string_z(n_qubits, [i, i+1]), J) )\n",
    "    \n",
    "    if periodic:\n",
    "        pauli_terms.append( (pauli_string_z(n_qubits, [n_qubits-1, 0]), J) )\n",
    "    \n",
    "    # Build SparsePauliOp\n",
    "    hamiltonian = SparsePauliOp.from_list(pauli_terms)\n",
    "    return hamiltonian"
   ]
  },
  {
   "cell_type": "code",
   "execution_count": 5,
   "id": "3efbda22",
   "metadata": {},
   "outputs": [
    {
     "name": "stdout",
     "output_type": "stream",
     "text": [
      "SparsePauliOp(['ZIII', 'IZII', 'IIZI', 'IIIZ', 'ZZII', 'IZZI', 'IIZZ'],\n",
      "              coeffs=[1.+0.j, 1.+0.j, 1.+0.j, 1.+0.j, 1.+0.j, 1.+0.j, 1.+0.j])\n"
     ]
    }
   ],
   "source": [
    "# construct Hamiltonian by specified paramaeters\n",
    "\n",
    "# parameters\n",
    "n_qubits = 4 \n",
    "h = 1.0\n",
    "J = 1.0\n",
    "\n",
    "# create Ising Hamiltonian\n",
    "H = build_ising_hamiltonian(n_qubits, h, J, periodic=False)\n",
    "print(H)"
   ]
  },
  {
   "cell_type": "markdown",
   "id": "bd8f30f0",
   "metadata": {},
   "source": [
    "## 2 | Ansatz (Quantum Circuit)\n",
    "For now, use a standard VQE quantum circuit called \"TwoLocal\".\n",
    "\n",
    "**Source**: Kandala et al., Nature 549, 242–246 (2017)\n",
    "Hardware-efficient variational quantum eigensolver for small molecules and quantum magnets.\n",
    "DOI: 10.1038/nature23879"
   ]
  },
  {
   "cell_type": "code",
   "execution_count": 6,
   "id": "fcc631e0",
   "metadata": {},
   "outputs": [
    {
     "name": "stderr",
     "output_type": "stream",
     "text": [
      "/var/folders/2h/t411d17d6jj2cw0g5vgr_jn80000gn/T/ipykernel_30301/224811712.py:6: DeprecationWarning: The class ``qiskit.circuit.library.n_local.two_local.TwoLocal`` is deprecated as of Qiskit 2.1. It will be removed in Qiskit 3.0. Use the function qiskit.circuit.library.n_local instead.\n",
      "  ansatz = TwoLocal(\n"
     ]
    },
    {
     "data": {
      "image/png": "[encoded data removed]",
      "text/plain": [
       "<Figure size 872.774x367.889 with 1 Axes>"
      ]
     },
     "execution_count": 6,
     "metadata": {},
     "output_type": "execute_result"
    }
   ],
   "source": [
    "from qiskit.circuit.library import TwoLocal\n",
    "\n",
    "n_qubits = 4\n",
    "\n",
    "# Define the ansatz (quantum circuit)\n",
    "ansatz = TwoLocal(\n",
    "    num_qubits=n_qubits,\n",
    "    rotation_blocks='ry',         # single‑qubit rotations: Ry\n",
    "    entanglement_blocks='cz',     # two‑qubit entanglement: CZ gates\n",
    "    entanglement='linear',        # linear (nearest‑neighbor) entanglement\n",
    "    reps=3,                        # number of layers (depth)\n",
    "    parameter_prefix=r'$\\theta$'          # name of parameters\n",
    ")\n",
    "\n",
    "# Draw the ansatz circuit (overall)\n",
    "ansatz.draw(\"mpl\")"
   ]
  },
  {
   "cell_type": "code",
   "execution_count": 7,
   "id": "00742657",
   "metadata": {},
   "outputs": [
    {
     "data": {
      "image/png": "[encoded data removed]",
      "text/plain": [
       "<Figure size 1040x367.889 with 1 Axes>"
      ]
     },
     "execution_count": 7,
     "metadata": {},
     "output_type": "execute_result"
    }
   ],
   "source": [
    "# Draw the ansatz circuit (decomposed)\n",
    "ansatz.decompose().draw(\"mpl\")"
   ]
  },
  {
   "cell_type": "code",
   "execution_count": 8,
   "id": "0efad3d5",
   "metadata": {},
   "outputs": [
    {
     "name": "stdout",
     "output_type": "stream",
     "text": [
      "Number of parameters in ansatz: 16\n"
     ]
    }
   ],
   "source": [
    "print(f\"Number of parameters in ansatz: {len(ansatz.parameters)}\")"
   ]
  },
  {
   "cell_type": "markdown",
   "id": "c4a864c6",
   "metadata": {},
   "source": [
    "## 3 | Estimator (backend)"
   ]
  },
  {
   "cell_type": "markdown",
   "id": "2854ebfb",
   "metadata": {},
   "source": [
    "### State vector estimator (perfect processing)"
   ]
  },
  {
   "cell_type": "code",
   "execution_count": 9,
   "id": "7e2fe5a3",
   "metadata": {},
   "outputs": [],
   "source": [
    "from qiskit_aer.primitives import Estimator\n",
    "estimator = Estimator()"
   ]
  },
  {
   "cell_type": "code",
   "execution_count": 10,
   "id": "5d13227a",
   "metadata": {},
   "outputs": [],
   "source": [
    "# from qiskit.primitives import Estimator\n",
    "# from qiskit_aer import AerSimulator\n",
    "\n",
    "# # create AerSimulator backend\n",
    "# aer_simulator = AerSimulator()\n",
    "\n",
    "# # create Estimator tied to AerSimulator\n",
    "# estimator = Estimator(backend=aer_simulator)"
   ]
  },
  {
   "cell_type": "code",
   "execution_count": 11,
   "id": "e02862b7",
   "metadata": {},
   "outputs": [],
   "source": [
    "from qiskit_aer import AerSimulator\n",
    "\n",
    "aer_sim = AerSimulator()\n",
    "# pm = generate_preset_pass_manager(backend=aer_sim, optimization_level=1)\n",
    "# isa_qc = pm.run(qc)\n",
    "# with Session(backend=aer_sim) as session:\n",
    "#     sampler = Sampler(mode=session)\n",
    "#     result = sampler.run([isa_qc]).result()"
   ]
  },
  {
   "cell_type": "markdown",
   "id": "54a9c993",
   "metadata": {},
   "source": [
    "## 4 | Cost function"
   ]
  },
  {
   "cell_type": "code",
   "execution_count": 12,
   "id": "b006f70d",
   "metadata": {},
   "outputs": [],
   "source": [
    "# # cost function for VQE\n",
    "# def original_cost_fn(params, ansatz, hamiltonian, estimator):\n",
    "#     \"\"\"    \n",
    "#     Inputs: \n",
    "#     - params: parameters for the ansatz\n",
    "#     - ansatz: quantum circuit ansatz\n",
    "#     - hamiltonian: Ising Hamiltonian operator\n",
    "#     - estimator: Qiskit Estimator for running circuits\n",
    "    \n",
    "#     Returns:\n",
    "#     - energy: expectation value of the Hamiltonian\n",
    "#     \"\"\"\n",
    "#     qc = ansatz.assign_parameters(params) # must bind parameters to the ansatz (??)\n",
    "#     result = estimator.run([qc], [hamiltonian]).result()\n",
    "#     energy = result.values[0] # first value is the expected energy\n",
    "#     return energy\n",
    "\n",
    "# from functools import partial\n",
    "\n",
    "# cost_fn = partial(original_cost_fn, ansatz=ansatz, hamiltonian=H, estimator=estimator)"
   ]
  },
  {
   "cell_type": "code",
   "execution_count": 13,
   "id": "dd627202",
   "metadata": {},
   "outputs": [],
   "source": [
    "from functools import partial\n",
    "\n",
    "def original_cost_fn(params, ansatz, hamiltonian, estimator):\n",
    "    \"\"\"    \n",
    "    Inputs: \n",
    "    - params: parameters for the ansatz\n",
    "    - ansatz: quantum circuit ansatz with free parameters\n",
    "    - hamiltonian: Ising Hamiltonian operator\n",
    "    - estimator: Qiskit Estimator\n",
    "    \n",
    "    Returns:\n",
    "    - energy: expectation value of the Hamiltonian\n",
    "    \"\"\"\n",
    "    # NEW: build param_dict mapping each Parameter to its value\n",
    "    param_dict = dict(zip(ansatz.parameters, params))\n",
    "    qc = ansatz.assign_parameters(param_dict)\n",
    "    \n",
    "    result = estimator.run([qc], [hamiltonian]).result()\n",
    "    energy = result.values[0]\n",
    "    return energy\n",
    "\n",
    "cost_fn = partial(original_cost_fn, ansatz=ansatz, hamiltonian=H, estimator=estimator)"
   ]
  },
  {
   "cell_type": "markdown",
   "id": "ba502430",
   "metadata": {},
   "source": [
    "## 5 | Optimiser\n",
    "Classical optimiser to minimise energy (approx. GS upper bound)"
   ]
  },
  {
   "cell_type": "code",
   "execution_count": 14,
   "id": "bf7591e8",
   "metadata": {},
   "outputs": [],
   "source": [
    "# create COBYLA optimizer (to get results)\n",
    "from scipy.optimize import minimize\n",
    "\n",
    "def cobyla_optimizer(fun, x0, jac=None, bounds=None):\n",
    "    \"\"\"\n",
    "    Wrapper for SciPy COBYLA optimizer.\n",
    "    \"\"\"\n",
    "    result = minimize(\n",
    "        fun=fun,\n",
    "        x0=x0,\n",
    "        method=\"COBYLA\",\n",
    "        jac=jac,\n",
    "        bounds=bounds,\n",
    "        options={\"maxiter\": 200}\n",
    "    )\n",
    "    return result.x, result.fun, result.nfev"
   ]
  },
  {
   "cell_type": "markdown",
   "id": "adee554d",
   "metadata": {},
   "source": [
    "## 6 | Run VQE. Extract results"
   ]
  },
  {
   "cell_type": "code",
   "execution_count": 15,
   "id": "bd1d2f33",
   "metadata": {},
   "outputs": [
    {
     "name": "stdout",
     "output_type": "stream",
     "text": [
      "Optimal parameters: [7.7125507  5.94851772 3.78869534 0.9026183  4.46322489 3.94366055\n",
      " 2.83535251 5.81898109 2.19533065 4.77584501 5.62668674 1.25718593\n",
      " 5.19310467 2.46324884 2.25798645 3.94043619]\n",
      "Estimated ground state energy: -2.845703125\n",
      "Function evaluations: 129\n"
     ]
    }
   ],
   "source": [
    "# initial parameters for the ansatz\n",
    "x0 = np.random.uniform(0, 2*np.pi, size = len(ansatz.parameters)) # randomly guess initial parameters. \n",
    "# require: length of x0 = no. of parameters in the ansatz\n",
    "\n",
    "# ground_state = (params, ansatz, H, estimator)\n",
    "\n",
    "optimal_params, optimal_energy, nfev = cobyla_optimizer(cost_fn, x0)\n",
    "\n",
    "print(f\"Optimal parameters: {optimal_params}\")\n",
    "print(f\"Estimated ground state energy: {optimal_energy}\")\n",
    "print(f\"Function evaluations: {nfev}\")"
   ]
  },
  {
   "cell_type": "code",
   "execution_count": 16,
   "id": "ea969e62",
   "metadata": {},
   "outputs": [
    {
     "name": "stdout",
     "output_type": "stream",
     "text": [
      "Optimal parameters: [4.25318982 4.79986782 3.13683747 2.78829992 1.06109462 7.03567374\n",
      " 3.15170785 2.81077005 4.21262135 4.34916158 4.68347422 0.26014337\n",
      " 0.66982319 3.08246846 1.80331992 2.90284341]\n",
      "Estimated ground state energy: -2.857421875\n",
      "Function evaluations: 126\n"
     ]
    }
   ],
   "source": [
    "# initial parameters for the ansatz\n",
    "x0 = np.random.uniform(0, 2*np.pi, size = len(ansatz.parameters)) # randomly guess initial parameters. \n",
    "# require: length of x0 = no. of parameters in the ansatz\n",
    "\n",
    "# ground_state = (params, ansatz, H, estimator)\n",
    "\n",
    "optimal_params, optimal_energy, nfev = cobyla_optimizer(cost_fn, x0)\n",
    "\n",
    "print(f\"Optimal parameters: {optimal_params}\")\n",
    "print(f\"Estimated ground state energy: {optimal_energy}\")\n",
    "print(f\"Function evaluations: {nfev}\")"
   ]
  },
  {
   "cell_type": "code",
   "execution_count": 17,
   "id": "391da468",
   "metadata": {},
   "outputs": [
    {
     "name": "stdout",
     "output_type": "stream",
     "text": [
      "Optimal parameters: [2.52161826 2.97796884 4.82963194 3.56371915 3.70220452 5.19569072\n",
      " 1.87768266 2.57645241 1.02231273 1.95936378 1.73507422 0.64973214\n",
      " 3.67485168 1.68558827 3.33783599 3.13591696]\n",
      "Estimated ground state energy: -2.990234375\n",
      "Function evaluations: 156\n"
     ]
    }
   ],
   "source": [
    "# initial parameters for the ansatz\n",
    "x0 = np.random.uniform(0, 2*np.pi, size = len(ansatz.parameters)) # randomly guess initial parameters. \n",
    "# require: length of x0 = no. of parameters in the ansatz\n",
    "\n",
    "# ground_state = (params, ansatz, H, estimator)\n",
    "\n",
    "optimal_params, optimal_energy, nfev = cobyla_optimizer(cost_fn, x0)\n",
    "\n",
    "print(f\"Optimal parameters: {optimal_params}\")\n",
    "print(f\"Estimated ground state energy: {optimal_energy}\")\n",
    "print(f\"Function evaluations: {nfev}\")"
   ]
  },
  {
   "cell_type": "markdown",
   "id": "b7645862",
   "metadata": {},
   "source": [
    "note: repeat inidividual measurements more. \n",
    "\n",
    "use Pennylane to \n",
    "QTip"
   ]
  },
  {
   "cell_type": "code",
   "execution_count": null,
   "id": "8dc8d26f",
   "metadata": {},
   "outputs": [],
   "source": []
  },
  {
   "cell_type": "markdown",
   "id": "fa9ef1fc",
   "metadata": {},
   "source": [
    "# Discussion"
   ]
  },
  {
   "cell_type": "markdown",
   "id": "72999b03",
   "metadata": {},
   "source": [
    "## How do I reach a lower upper bound? \n",
    "True GS: -4."
   ]
  },
  {
   "cell_type": "markdown",
   "id": "f9f973d7",
   "metadata": {},
   "source": [
    "# Stash/Archived"
   ]
  }
 ],
 "metadata": {
  "kernelspec": {
   "display_name": "quantum_ml_v2.1",
   "language": "python",
   "name": "python3"
  },
  "language_info": {
   "codemirror_mode": {
    "name": "ipython",
    "version": 3
   },
   "file_extension": ".py",
   "mimetype": "text/x-python",
   "name": "python",
   "nbconvert_exporter": "python",
   "pygments_lexer": "ipython3",
   "version": "3.11.13"
  }
 },
 "nbformat": 4,
 "nbformat_minor": 5
}
